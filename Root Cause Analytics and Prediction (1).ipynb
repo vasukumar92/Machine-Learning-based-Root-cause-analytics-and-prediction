{
 "cells": [
  {
   "cell_type": "markdown",
   "metadata": {},
   "source": [
    "\n",
    "# Root Cause Analysis for Late Deliveries "
   ]
  },
  {
   "cell_type": "markdown",
   "metadata": {},
   "source": [
    "**Description:**\n",
    "\n",
    "The objective of the project is to analyse root causes of the late deliveries by a vendor.\n",
    "\n",
    "**Methodology:**\n",
    "1. Loading required libraries\n",
    "2. Data Loading and feature significance\n",
    "3. Data Cleaning and Preparation\n",
    "4. New Features - Feature Engineering\n",
    "5. Linear Model to find the statistical significances\n",
    "6. Correlation check to avoid multi-collinearity\n",
    "7. Classification - Decision Tree and Logistic Classification\n",
    "8. Model Selection and Model tuning\n",
    "9. Conclusion\n",
    "\n",
    "The features in the data set are: 'order_id', 'country', 'shipping_method', 'units_per_order', 'facility',\n",
    "       'product_category', 'on_sale', 'transit_days', 'returned', 'backorder',\n",
    "       'datetime_ordered', 'datetime_sourced', 'datetime_product_ready',\n",
    "       'datetime_planned', 'datetime_delivered', 'deadline_source',\n",
    "       'deadline_make', 'deadline_deliver', 'delivered_to_plan'\n",
    "\n",
    "You will also need to have software installed to run and execute a [Jupyter Notebook](http://ipython.org/notebook.html)\n",
    "\n",
    "If you do not have Python installed yet, it is highly recommended that you install the [Anaconda](http://continuum.io/downloads) distribution of Python, which already has the above packages and more included. \n",
    "\n"
   ]
  },
  {
   "cell_type": "markdown",
   "metadata": {},
   "source": [
    "## Loading Required Libraries"
   ]
  },
  {
   "cell_type": "code",
   "execution_count": 1,
   "metadata": {},
   "outputs": [],
   "source": [
    "import pandas as pd\n",
    "import seaborn as sns\n",
    "import matplotlib.pyplot as plt\n",
    "from scipy import stats\n",
    "import numpy as np"
   ]
  },
  {
   "cell_type": "code",
   "execution_count": 2,
   "metadata": {},
   "outputs": [],
   "source": [
    "df = pd.read_excel('CASE STUDY_DATA_LATE DELIVERY ROOT CAUSE.xlsx')"
   ]
  },
  {
   "cell_type": "code",
   "execution_count": 3,
   "metadata": {},
   "outputs": [
    {
     "data": {
      "text/html": [
       "<div>\n",
       "<style scoped>\n",
       "    .dataframe tbody tr th:only-of-type {\n",
       "        vertical-align: middle;\n",
       "    }\n",
       "\n",
       "    .dataframe tbody tr th {\n",
       "        vertical-align: top;\n",
       "    }\n",
       "\n",
       "    .dataframe thead th {\n",
       "        text-align: right;\n",
       "    }\n",
       "</style>\n",
       "<table border=\"1\" class=\"dataframe\">\n",
       "  <thead>\n",
       "    <tr style=\"text-align: right;\">\n",
       "      <th></th>\n",
       "      <th>order_id</th>\n",
       "      <th>country</th>\n",
       "      <th>shipping_method</th>\n",
       "      <th>units_per_order</th>\n",
       "      <th>facility</th>\n",
       "      <th>product_category</th>\n",
       "      <th>on_sale</th>\n",
       "      <th>transit_days</th>\n",
       "      <th>returned</th>\n",
       "      <th>backorder</th>\n",
       "      <th>datetime_ordered</th>\n",
       "      <th>datetime_sourced</th>\n",
       "      <th>datetime_product_ready</th>\n",
       "      <th>datetime_planned</th>\n",
       "      <th>datetime_delivered</th>\n",
       "      <th>deadline_source</th>\n",
       "      <th>deadline_make</th>\n",
       "      <th>deadline_deliver</th>\n",
       "      <th>delivered_to_plan</th>\n",
       "    </tr>\n",
       "  </thead>\n",
       "  <tbody>\n",
       "    <tr>\n",
       "      <th>0</th>\n",
       "      <td>E00000001</td>\n",
       "      <td>UNITED KINGDOM</td>\n",
       "      <td>Ground</td>\n",
       "      <td>1</td>\n",
       "      <td>OXFORD</td>\n",
       "      <td>ACCESSORIES</td>\n",
       "      <td>Y</td>\n",
       "      <td>2</td>\n",
       "      <td>NaN</td>\n",
       "      <td>NaN</td>\n",
       "      <td>2016-07-03 03:07:29</td>\n",
       "      <td>2016-07-03 04:09:49</td>\n",
       "      <td>2016-07-06 00:59:42</td>\n",
       "      <td>2016-07-08</td>\n",
       "      <td>2016-07-07</td>\n",
       "      <td>1612</td>\n",
       "      <td>38</td>\n",
       "      <td>3</td>\n",
       "      <td>PASS</td>\n",
       "    </tr>\n",
       "    <tr>\n",
       "      <th>1</th>\n",
       "      <td>E00000002</td>\n",
       "      <td>FRANCE</td>\n",
       "      <td>Ground</td>\n",
       "      <td>1</td>\n",
       "      <td>ANTWERP</td>\n",
       "      <td>JACKETS &amp; VESTS</td>\n",
       "      <td>N</td>\n",
       "      <td>3</td>\n",
       "      <td>Y</td>\n",
       "      <td>NaN</td>\n",
       "      <td>2016-07-03 00:08:43</td>\n",
       "      <td>2016-07-03 02:16:24</td>\n",
       "      <td>2016-07-03 07:17:04</td>\n",
       "      <td>2016-07-06</td>\n",
       "      <td>2016-07-05</td>\n",
       "      <td>531</td>\n",
       "      <td>8</td>\n",
       "      <td>3</td>\n",
       "      <td>PASS</td>\n",
       "    </tr>\n",
       "    <tr>\n",
       "      <th>2</th>\n",
       "      <td>E00000003</td>\n",
       "      <td>FRANCE</td>\n",
       "      <td>Ground</td>\n",
       "      <td>1</td>\n",
       "      <td>ANTWERP</td>\n",
       "      <td>TOPS</td>\n",
       "      <td>Y</td>\n",
       "      <td>3</td>\n",
       "      <td>NaN</td>\n",
       "      <td>NaN</td>\n",
       "      <td>2016-07-03 00:36:00</td>\n",
       "      <td>2016-07-03 02:16:18</td>\n",
       "      <td>2016-07-03 06:16:57</td>\n",
       "      <td>2016-07-06</td>\n",
       "      <td>2016-07-05</td>\n",
       "      <td>504</td>\n",
       "      <td>8</td>\n",
       "      <td>3</td>\n",
       "      <td>PASS</td>\n",
       "    </tr>\n",
       "    <tr>\n",
       "      <th>3</th>\n",
       "      <td>E00000004</td>\n",
       "      <td>FRANCE</td>\n",
       "      <td>Ground</td>\n",
       "      <td>1</td>\n",
       "      <td>ANTWERP</td>\n",
       "      <td>JACKETS &amp; VESTS</td>\n",
       "      <td>Y</td>\n",
       "      <td>5</td>\n",
       "      <td>NaN</td>\n",
       "      <td>NaN</td>\n",
       "      <td>2016-07-03 00:47:45</td>\n",
       "      <td>2016-07-03 02:16:18</td>\n",
       "      <td>2016-07-03 06:16:55</td>\n",
       "      <td>2016-07-07</td>\n",
       "      <td>2016-07-05</td>\n",
       "      <td>492</td>\n",
       "      <td>8</td>\n",
       "      <td>5</td>\n",
       "      <td>PASS</td>\n",
       "    </tr>\n",
       "    <tr>\n",
       "      <th>4</th>\n",
       "      <td>E00000005</td>\n",
       "      <td>UNITED KINGDOM</td>\n",
       "      <td>Next Day</td>\n",
       "      <td>1</td>\n",
       "      <td>OXFORD</td>\n",
       "      <td>JACKETS &amp; VESTS</td>\n",
       "      <td>Y</td>\n",
       "      <td>1</td>\n",
       "      <td>NaN</td>\n",
       "      <td>NaN</td>\n",
       "      <td>2016-07-03 03:52:13</td>\n",
       "      <td>2016-07-03 07:56:33</td>\n",
       "      <td>2016-07-05 08:53:19</td>\n",
       "      <td>2016-07-06</td>\n",
       "      <td>2016-07-06</td>\n",
       "      <td>1567</td>\n",
       "      <td>6</td>\n",
       "      <td>1</td>\n",
       "      <td>PASS</td>\n",
       "    </tr>\n",
       "  </tbody>\n",
       "</table>\n",
       "</div>"
      ],
      "text/plain": [
       "    order_id         country shipping_method  units_per_order facility  \\\n",
       "0  E00000001  UNITED KINGDOM          Ground                1   OXFORD   \n",
       "1  E00000002          FRANCE          Ground                1  ANTWERP   \n",
       "2  E00000003          FRANCE          Ground                1  ANTWERP   \n",
       "3  E00000004          FRANCE          Ground                1  ANTWERP   \n",
       "4  E00000005  UNITED KINGDOM        Next Day                1   OXFORD   \n",
       "\n",
       "  product_category on_sale  transit_days returned backorder  \\\n",
       "0      ACCESSORIES       Y             2      NaN       NaN   \n",
       "1  JACKETS & VESTS       N             3        Y       NaN   \n",
       "2             TOPS       Y             3      NaN       NaN   \n",
       "3  JACKETS & VESTS       Y             5      NaN       NaN   \n",
       "4  JACKETS & VESTS       Y             1      NaN       NaN   \n",
       "\n",
       "     datetime_ordered    datetime_sourced datetime_product_ready  \\\n",
       "0 2016-07-03 03:07:29 2016-07-03 04:09:49    2016-07-06 00:59:42   \n",
       "1 2016-07-03 00:08:43 2016-07-03 02:16:24    2016-07-03 07:17:04   \n",
       "2 2016-07-03 00:36:00 2016-07-03 02:16:18    2016-07-03 06:16:57   \n",
       "3 2016-07-03 00:47:45 2016-07-03 02:16:18    2016-07-03 06:16:55   \n",
       "4 2016-07-03 03:52:13 2016-07-03 07:56:33    2016-07-05 08:53:19   \n",
       "\n",
       "  datetime_planned datetime_delivered  deadline_source  deadline_make  \\\n",
       "0       2016-07-08         2016-07-07             1612             38   \n",
       "1       2016-07-06         2016-07-05              531              8   \n",
       "2       2016-07-06         2016-07-05              504              8   \n",
       "3       2016-07-07         2016-07-05              492              8   \n",
       "4       2016-07-06         2016-07-06             1567              6   \n",
       "\n",
       "   deadline_deliver delivered_to_plan  \n",
       "0                 3              PASS  \n",
       "1                 3              PASS  \n",
       "2                 3              PASS  \n",
       "3                 5              PASS  \n",
       "4                 1              PASS  "
      ]
     },
     "execution_count": 3,
     "metadata": {},
     "output_type": "execute_result"
    }
   ],
   "source": [
    "df.head()"
   ]
  },
  {
   "cell_type": "code",
   "execution_count": 4,
   "metadata": {},
   "outputs": [
    {
     "data": {
      "text/plain": [
       "Index(['order_id', 'country', 'shipping_method', 'units_per_order', 'facility',\n",
       "       'product_category', 'on_sale', 'transit_days', 'returned', 'backorder',\n",
       "       'datetime_ordered', 'datetime_sourced', 'datetime_product_ready',\n",
       "       'datetime_planned', 'datetime_delivered', 'deadline_source',\n",
       "       'deadline_make', 'deadline_deliver', 'delivered_to_plan'],\n",
       "      dtype='object')"
      ]
     },
     "execution_count": 4,
     "metadata": {},
     "output_type": "execute_result"
    }
   ],
   "source": [
    "df.columns"
   ]
  },
  {
   "cell_type": "markdown",
   "metadata": {},
   "source": [
    "## Data Cleaning and Preprocessing "
   ]
  },
  {
   "cell_type": "code",
   "execution_count": 5,
   "metadata": {},
   "outputs": [
    {
     "name": "stdout",
     "output_type": "stream",
     "text": [
      "returned 94723\n",
      "backorder 98004\n"
     ]
    }
   ],
   "source": [
    "for col in df.columns:\n",
    "    if df[col].isna().sum()>0:\n",
    "        print(col, df[col].isna().sum())"
   ]
  },
  {
   "cell_type": "code",
   "execution_count": 6,
   "metadata": {},
   "outputs": [
    {
     "data": {
      "text/plain": [
       "array([nan, 'Y'], dtype=object)"
      ]
     },
     "execution_count": 6,
     "metadata": {},
     "output_type": "execute_result"
    }
   ],
   "source": [
    "df['returned'].unique()"
   ]
  },
  {
   "cell_type": "code",
   "execution_count": 7,
   "metadata": {},
   "outputs": [],
   "source": [
    "df['returned'] = df['returned'].fillna('N')"
   ]
  },
  {
   "cell_type": "code",
   "execution_count": 8,
   "metadata": {},
   "outputs": [
    {
     "data": {
      "text/plain": [
       "array([nan, 'Y'], dtype=object)"
      ]
     },
     "execution_count": 8,
     "metadata": {},
     "output_type": "execute_result"
    }
   ],
   "source": [
    "df['backorder'].unique()"
   ]
  },
  {
   "cell_type": "code",
   "execution_count": 9,
   "metadata": {},
   "outputs": [],
   "source": [
    "df['backorder'] = df['backorder'].fillna('N')"
   ]
  },
  {
   "cell_type": "code",
   "execution_count": 10,
   "metadata": {},
   "outputs": [],
   "source": [
    "def units(x):\n",
    "    if(x>=6):\n",
    "        return 1\n",
    "    else:\n",
    "        return 0"
   ]
  },
  {
   "cell_type": "code",
   "execution_count": 11,
   "metadata": {},
   "outputs": [],
   "source": [
    "df['units>6']=df['units_per_order'].apply(lambda x:units(x))"
   ]
  },
  {
   "cell_type": "code",
   "execution_count": 12,
   "metadata": {},
   "outputs": [],
   "source": [
    "def final_flag(x):\n",
    "    if(x=='PASS'):\n",
    "        return 0\n",
    "    else:\n",
    "        return 1"
   ]
  },
  {
   "cell_type": "code",
   "execution_count": 13,
   "metadata": {},
   "outputs": [],
   "source": [
    "df['final_flag']=df['delivered_to_plan'].apply(lambda x:final_flag(x))"
   ]
  },
  {
   "cell_type": "code",
   "execution_count": 14,
   "metadata": {},
   "outputs": [],
   "source": [
    "## Encoding Categorical variables\n",
    "def convert(x):\n",
    "    if(x=='Y'):\n",
    "        return 1\n",
    "    else:\n",
    "        return 0"
   ]
  },
  {
   "cell_type": "code",
   "execution_count": 15,
   "metadata": {},
   "outputs": [],
   "source": [
    "df['backorder']=df['backorder'].apply(lambda x:convert(x))\n",
    "df['returned']=df['returned'].apply(lambda x:convert(x))\n",
    "df['on_sale'] = df['on_sale'].apply(lambda x:convert(x))"
   ]
  },
  {
   "cell_type": "markdown",
   "metadata": {},
   "source": [
    "## New Features - Feature Engineering"
   ]
  },
  {
   "cell_type": "code",
   "execution_count": 16,
   "metadata": {},
   "outputs": [],
   "source": [
    "df['deadline_source'] = pd.to_timedelta(df['deadline_source'],'m')\n",
    "df['deadline_make']=pd.to_timedelta(df['deadline_make'],'h')\n",
    "df['deadline_deliver']=pd.to_timedelta(df['deadline_deliver'],'d')"
   ]
  },
  {
   "cell_type": "code",
   "execution_count": 17,
   "metadata": {},
   "outputs": [],
   "source": [
    "## Actual Sourced Deadline = ordered + source deadline\n",
    "df['actual_sourced'] = df['datetime_ordered']+df['deadline_source']\n",
    "df['actual_make'] = df['datetime_sourced']+df['deadline_make']\n",
    "df['actual_deliver'] = df['datetime_product_ready']+df['deadline_deliver']"
   ]
  },
  {
   "cell_type": "code",
   "execution_count": 18,
   "metadata": {},
   "outputs": [],
   "source": [
    "df['source_delay'] = df['actual_sourced']-df['datetime_sourced']\n",
    "df['make_delay']=df['actual_make']-df['datetime_product_ready']\n",
    "df['delivery_delay'] = df['actual_deliver']-df['datetime_delivered']"
   ]
  },
  {
   "cell_type": "code",
   "execution_count": 19,
   "metadata": {},
   "outputs": [],
   "source": [
    "def flag(x):\n",
    "    if(x.days<0):\n",
    "        return 1\n",
    "    else:\n",
    "        return 0"
   ]
  },
  {
   "cell_type": "code",
   "execution_count": 20,
   "metadata": {},
   "outputs": [],
   "source": [
    "df['source_delay_flag']=df['source_delay'].apply(lambda x:flag(x))\n",
    "df['make_delay_flag']=df['make_delay'].apply(lambda x:flag(x))\n",
    "df['delivery_delay_flag']=df['delivery_delay'].apply(lambda x:flag(x))"
   ]
  },
  {
   "cell_type": "code",
   "execution_count": 21,
   "metadata": {},
   "outputs": [],
   "source": [
    "df['final_flag']=df['delivered_to_plan'].apply(lambda x:final_flag(x))"
   ]
  },
  {
   "cell_type": "code",
   "execution_count": 22,
   "metadata": {},
   "outputs": [],
   "source": [
    "df['Bad_Plan']=df['source_delay_flag']+df['make_delay_flag']+df['delivery_delay_flag']-df['final_flag']"
   ]
  },
  {
   "cell_type": "code",
   "execution_count": 23,
   "metadata": {},
   "outputs": [
    {
     "data": {
      "text/plain": [
       "array([ 1,  0,  2, -1,  3], dtype=int64)"
      ]
     },
     "execution_count": 23,
     "metadata": {},
     "output_type": "execute_result"
    }
   ],
   "source": [
    "df['Bad_Plan'].unique()"
   ]
  },
  {
   "cell_type": "code",
   "execution_count": 24,
   "metadata": {},
   "outputs": [],
   "source": [
    "def bad_plan(x):\n",
    "    if(x<0):\n",
    "        return 1\n",
    "    else:\n",
    "        return 0"
   ]
  },
  {
   "cell_type": "code",
   "execution_count": 25,
   "metadata": {},
   "outputs": [],
   "source": [
    "df['Bad_Plan']=df['Bad_Plan'].apply(lambda x:bad_plan(x))"
   ]
  },
  {
   "cell_type": "code",
   "execution_count": 26,
   "metadata": {},
   "outputs": [],
   "source": [
    "df['Delay_Days'] = (df['datetime_delivered']-df['datetime_planned'])"
   ]
  },
  {
   "cell_type": "code",
   "execution_count": 27,
   "metadata": {},
   "outputs": [],
   "source": [
    "## Converting everything in minutes - Total Delay, source_delay, make_delay, delivery_delay\n",
    "df['make_delay_minutes']=df['make_delay']/np.timedelta64(1,'m')\n",
    "df['source_delay_minutes']=df['source_delay']/np.timedelta64(1,'m')\n",
    "df['delivery_delay_minutes']=df['delivery_delay']/np.timedelta64(1,'m')\n",
    "df['Total_delay_minutes']=df['Delay_Days']/np.timedelta64(1,'m')"
   ]
  },
  {
   "cell_type": "markdown",
   "metadata": {},
   "source": [
    "\n",
    "### Linear Model to find the statistical significances"
   ]
  },
  {
   "cell_type": "code",
   "execution_count": 28,
   "metadata": {},
   "outputs": [
    {
     "data": {
      "text/plain": [
       "110114"
      ]
     },
     "execution_count": 28,
     "metadata": {},
     "output_type": "execute_result"
    }
   ],
   "source": [
    "df_new=df.dropna(how='any')\n",
    "len(df_new)"
   ]
  },
  {
   "cell_type": "markdown",
   "metadata": {},
   "source": [
    "<b>\n",
    "From EDA,it was obvious that each of the factors played a significant role in determining the delay. To substantiate this statistically, a Multi Linear Regression model was developed with all the features.\n",
    "    </b>"
   ]
  },
  {
   "cell_type": "code",
   "execution_count": 29,
   "metadata": {},
   "outputs": [],
   "source": [
    "## Initial Model\n",
    "import statsmodels.formula.api as sm\n",
    "result = sm.ols(formula='Total_delay_minutes ~ country + shipping_method + units_per_order + facility + product_category + on_sale + transit_days + returned + backorder + make_delay_minutes + source_delay_minutes + delivery_delay_minutes + Bad_Plan', data=df_new).fit()"
   ]
  },
  {
   "cell_type": "code",
   "execution_count": 30,
   "metadata": {},
   "outputs": [],
   "source": [
    "tvals = result.tvalues\n",
    "tvals = tvals.abs()\n",
    "tvals = tvals.sort_values(ascending=False)"
   ]
  },
  {
   "cell_type": "code",
   "execution_count": 31,
   "metadata": {},
   "outputs": [],
   "source": [
    "significant_factors = tvals[tvals>1.96]"
   ]
  },
  {
   "cell_type": "code",
   "execution_count": 32,
   "metadata": {},
   "outputs": [
    {
     "name": "stdout",
     "output_type": "stream",
     "text": [
      "SIGNIFICANT FACTORS BASED ON t-values\n",
      "-------------------------------------\n",
      "delivery_delay_minutes\n",
      "Bad_Plan\n",
      "make_delay_minutes\n",
      "country[T.SWEDEN]\n",
      "shipping_method[T.Ground]\n",
      "backorder\n",
      "shipping_method[T.3-Day]\n",
      "source_delay_minutes\n",
      "Intercept\n",
      "facility[T.OXFORD]\n",
      "facility[T.EINDHOVEN]\n",
      "facility[T.HANOVER]\n",
      "facility[T.MANCHESTER]\n",
      "country[T.GERMANY]\n",
      "country[T.NETHERLANDS]\n",
      "country[T.FRANCE]\n",
      "facility[T.AUGSBURG]\n",
      "returned\n",
      "units_per_order\n",
      "shipping_method[T.Next Day]\n",
      "product_category[T.JACKETS & VESTS]\n",
      "on_sale\n",
      "country[T.UNITED KINGDOM]\n"
     ]
    }
   ],
   "source": [
    "print(\"SIGNIFICANT FACTORS BASED ON t-values\")\n",
    "print(\"-------------------------------------\")\n",
    "for i in significant_factors.index:\n",
    "    print(i)"
   ]
  },
  {
   "cell_type": "code",
   "execution_count": 33,
   "metadata": {},
   "outputs": [
    {
     "data": {
      "text/plain": [
       "['product_category[T.TOPS]', 'transit_days']"
      ]
     },
     "execution_count": 33,
     "metadata": {},
     "output_type": "execute_result"
    }
   ],
   "source": [
    "insignificant_factors = list(set(result.params.index) - set(significant_factors.index))\n",
    "insignificant_factors"
   ]
  },
  {
   "cell_type": "code",
   "execution_count": 35,
   "metadata": {},
   "outputs": [
    {
     "name": "stdout",
     "output_type": "stream",
     "text": [
      "                             OLS Regression Results                            \n",
      "===============================================================================\n",
      "Dep. Variable:     Total_delay_minutes   R-squared:                       0.541\n",
      "Model:                             OLS   Adj. R-squared:                  0.541\n",
      "Method:                  Least Squares   F-statistic:                     5907.\n",
      "Date:                 Mon, 15 Oct 2018   Prob (F-statistic):               0.00\n",
      "Time:                         23:10:55   Log-Likelihood:            -9.8166e+05\n",
      "No. Observations:               110114   AIC:                         1.963e+06\n",
      "Df Residuals:                   110091   BIC:                         1.964e+06\n",
      "Df Model:                           22                                         \n",
      "Covariance Type:             nonrobust                                         \n",
      "=======================================================================================================\n",
      "                                          coef    std err          t      P>|t|      [0.025      0.975]\n",
      "-------------------------------------------------------------------------------------------------------\n",
      "Intercept                            1398.9868     59.570     23.485      0.000    1282.231    1515.743\n",
      "country[T.FRANCE]                     400.8185     45.192      8.869      0.000     312.243     489.394\n",
      "country[T.GERMANY]                  -1274.6080     86.328    -14.765      0.000   -1443.811   -1105.405\n",
      "country[T.NETHERLANDS]                658.7009     69.423      9.488      0.000     522.633     794.769\n",
      "country[T.SWEDEN]                   -1845.0324     50.258    -36.711      0.000   -1943.538   -1746.527\n",
      "country[T.UNITED KINGDOM]              67.6381     31.382      2.155      0.031       6.130     129.147\n",
      "shipping_method[T.3-Day]             -964.2504     37.041    -26.032      0.000   -1036.850    -891.651\n",
      "shipping_method[T.Ground]           -1081.8522     34.138    -31.691      0.000   -1148.762   -1014.942\n",
      "shipping_method[T.Next Day]           158.5269     37.717      4.203      0.000      84.602     232.452\n",
      "facility[T.AUGSBURG]                  333.0139     46.855      7.107      0.000     241.178     424.850\n",
      "facility[T.EINDHOVEN]                 917.9264     45.323     20.253      0.000     829.095    1006.758\n",
      "facility[T.HANOVER]                   865.9214     47.338     18.292      0.000     773.139     958.704\n",
      "facility[T.MANCHESTER]               -461.6561     29.966    -15.406      0.000    -520.389    -402.923\n",
      "facility[T.OXFORD]                   -657.0373     30.741    -21.373      0.000    -717.290    -596.785\n",
      "product_category[T.JACKETS & VESTS]    67.8978     21.882      3.103      0.002      25.010     110.786\n",
      "product_category[T.TOPS]               25.1831     22.719      1.108      0.268     -19.345      69.712\n",
      "units_per_order                        49.5059     10.992      4.504      0.000      27.962      71.050\n",
      "on_sale                               -26.8898     10.999     -2.445      0.014     -48.448      -5.331\n",
      "transit_days                           -3.0987      9.201     -0.337      0.736     -21.132      14.935\n",
      "returned                               71.2737     15.754      4.524      0.000      40.396     102.151\n",
      "backorder                             535.7759     20.189     26.538      0.000     496.205     575.347\n",
      "make_delay_minutes                     -0.3077      0.005    -63.202      0.000      -0.317      -0.298\n",
      "source_delay_minutes                   -0.0917      0.004    -25.230      0.000      -0.099      -0.085\n",
      "delivery_delay_minutes                 -0.7190      0.002   -308.385      0.000      -0.724      -0.714\n",
      "Bad_Plan                             2587.5541     33.723     76.731      0.000    2521.458    2653.650\n",
      "==============================================================================\n",
      "Omnibus:                    13631.352   Durbin-Watson:                   1.585\n",
      "Prob(Omnibus):                  0.000   Jarque-Bera (JB):           104278.518\n",
      "Skew:                          -0.349   Prob(JB):                         0.00\n",
      "Kurtosis:                       7.716   Cond. No.                     9.81e+17\n",
      "==============================================================================\n",
      "\n",
      "Warnings:\n",
      "[1] Standard Errors assume that the covariance matrix of the errors is correctly specified.\n",
      "[2] The smallest eigenvalue is 1.15e-24. This might indicate that there are\n",
      "strong multicollinearity problems or that the design matrix is singular.\n"
     ]
    }
   ],
   "source": [
    "print(result.summary())"
   ]
  },
  {
   "cell_type": "code",
   "execution_count": 36,
   "metadata": {},
   "outputs": [],
   "source": [
    "## After removing insiginificant factors\n",
    "result = sm.ols(formula='Total_delay_minutes ~ country + shipping_method + units_per_order + facility  + on_sale  + returned + backorder + make_delay_minutes + source_delay_minutes + delivery_delay_minutes + Bad_Plan', data=df_new).fit()"
   ]
  },
  {
   "cell_type": "code",
   "execution_count": 37,
   "metadata": {},
   "outputs": [
    {
     "name": "stdout",
     "output_type": "stream",
     "text": [
      "                             OLS Regression Results                            \n",
      "===============================================================================\n",
      "Dep. Variable:     Total_delay_minutes   R-squared:                       0.541\n",
      "Model:                             OLS   Adj. R-squared:                  0.541\n",
      "Method:                  Least Squares   F-statistic:                     6838.\n",
      "Date:                 Mon, 15 Oct 2018   Prob (F-statistic):               0.00\n",
      "Time:                         23:11:02   Log-Likelihood:            -9.8167e+05\n",
      "No. Observations:               110114   AIC:                         1.963e+06\n",
      "Df Residuals:                   110094   BIC:                         1.964e+06\n",
      "Df Model:                           19                                         \n",
      "Covariance Type:             nonrobust                                         \n",
      "===============================================================================================\n",
      "                                  coef    std err          t      P>|t|      [0.025      0.975]\n",
      "-----------------------------------------------------------------------------------------------\n",
      "Intercept                    1436.3095     52.390     27.416      0.000    1333.626    1538.993\n",
      "country[T.FRANCE]             409.9518     45.026      9.105      0.000     321.701     498.203\n",
      "country[T.GERMANY]          -1273.2380     85.505    -14.891      0.000   -1440.827   -1105.649\n",
      "country[T.NETHERLANDS]        675.8494     67.438     10.022      0.000     543.671     808.027\n",
      "country[T.SWEDEN]           -1856.7471     39.914    -46.518      0.000   -1934.979   -1778.515\n",
      "country[T.UNITED KINGDOM]      71.3217     28.844      2.473      0.013      14.788     127.855\n",
      "shipping_method[T.3-Day]     -969.0472     36.054    -26.878      0.000   -1039.713    -898.382\n",
      "shipping_method[T.Ground]   -1084.7652     33.884    -32.014      0.000   -1151.178   -1018.353\n",
      "shipping_method[T.Next Day]   158.7554     37.453      4.239      0.000      85.348     232.162\n",
      "facility[T.AUGSBURG]          339.6010     46.295      7.336      0.000     248.863     430.338\n",
      "facility[T.EINDHOVEN]         924.4447     44.701     20.680      0.000     836.831    1012.059\n",
      "facility[T.HANOVER]           871.8881     46.840     18.614      0.000     780.083     963.693\n",
      "facility[T.MANCHESTER]       -467.5468     29.786    -15.697      0.000    -525.926    -409.167\n",
      "facility[T.OXFORD]           -642.0292     30.496    -21.053      0.000    -701.802    -582.257\n",
      "units_per_order                48.4087     10.986      4.406      0.000      26.876      69.942\n",
      "on_sale                       -27.3539     10.999     -2.487      0.013     -48.911      -5.797\n",
      "returned                       72.5585     15.742      4.609      0.000      41.705     103.412\n",
      "backorder                     536.1532     20.188     26.558      0.000     496.585     575.721\n",
      "make_delay_minutes             -0.3072      0.005    -63.380      0.000      -0.317      -0.298\n",
      "source_delay_minutes           -0.0917      0.004    -25.228      0.000      -0.099      -0.085\n",
      "delivery_delay_minutes         -0.7191      0.002   -316.015      0.000      -0.724      -0.715\n",
      "Bad_Plan                     2589.5046     33.720     76.793      0.000    2523.413    2655.596\n",
      "==============================================================================\n",
      "Omnibus:                    13628.922   Durbin-Watson:                   1.585\n",
      "Prob(Omnibus):                  0.000   Jarque-Bera (JB):           104278.007\n",
      "Skew:                          -0.349   Prob(JB):                         0.00\n",
      "Kurtosis:                       7.716   Cond. No.                     1.02e+18\n",
      "==============================================================================\n",
      "\n",
      "Warnings:\n",
      "[1] Standard Errors assume that the covariance matrix of the errors is correctly specified.\n",
      "[2] The smallest eigenvalue is 1.06e-24. This might indicate that there are\n",
      "strong multicollinearity problems or that the design matrix is singular.\n"
     ]
    }
   ],
   "source": [
    "print(result.summary())"
   ]
  },
  {
   "cell_type": "code",
   "execution_count": 39,
   "metadata": {},
   "outputs": [
    {
     "data": {
      "text/plain": [
       "delivery_delay_minutes         316.014963\n",
       "Bad_Plan                        76.793212\n",
       "make_delay_minutes              63.379863\n",
       "country[T.SWEDEN]               46.518136\n",
       "shipping_method[T.Ground]       32.013992\n",
       "Intercept                       27.415664\n",
       "shipping_method[T.3-Day]        26.877619\n",
       "backorder                       26.558182\n",
       "source_delay_minutes            25.227989\n",
       "facility[T.OXFORD]              21.052605\n",
       "facility[T.EINDHOVEN]           20.680475\n",
       "facility[T.HANOVER]             18.614339\n",
       "facility[T.MANCHESTER]          15.697079\n",
       "country[T.GERMANY]              14.890774\n",
       "country[T.NETHERLANDS]          10.021757\n",
       "country[T.FRANCE]                9.104713\n",
       "facility[T.AUGSBURG]             7.335590\n",
       "returned                         4.609329\n",
       "units_per_order                  4.406303\n",
       "shipping_method[T.Next Day]      4.238808\n",
       "on_sale                          2.487003\n",
       "country[T.UNITED KINGDOM]        2.472673\n",
       "dtype: float64"
      ]
     },
     "execution_count": 39,
     "metadata": {},
     "output_type": "execute_result"
    }
   ],
   "source": [
    "tvals = result.tvalues\n",
    "tvals = abs(tvals)\n",
    "tvals.sort_values(ascending=False)"
   ]
  },
  {
   "cell_type": "markdown",
   "metadata": {},
   "source": [
    "<b>\n",
    "Clearly, by the absolute values of the t-values, Delivery Delay and Make Delay are significantly important. Bad Planning is also a significant factor contributing to the failure in delivery.\n",
    "\n",
    "The intercept value is an aggregation of values when country is Belgium, Shipping method is 2- Day and Facility is Antwerp.  Having a significant t value, all these factors are also contributing significantly towards the failure in delivery. Therefore, a conclusion that was made in the preliminary analysis of data is thus justified.\n",
    "</b>"
   ]
  },
  {
   "cell_type": "markdown",
   "metadata": {},
   "source": [
    "\n",
    "### Correlation check to avoid multi-collinearity"
   ]
  },
  {
   "cell_type": "code",
   "execution_count": 40,
   "metadata": {},
   "outputs": [
    {
     "data": {
      "text/plain": [
       "11"
      ]
     },
     "execution_count": 40,
     "metadata": {},
     "output_type": "execute_result"
    }
   ],
   "source": [
    "cols=['country', 'shipping_method','units_per_order','facility',\n",
    "'on_sale','returned','backorder','make_delay_minutes','source_delay_minutes','delivery_delay_minutes',\n",
    "'Bad_Plan']\n",
    "len(cols)"
   ]
  },
  {
   "cell_type": "code",
   "execution_count": 41,
   "metadata": {},
   "outputs": [
    {
     "data": {
      "text/html": [
       "<div>\n",
       "<style scoped>\n",
       "    .dataframe tbody tr th:only-of-type {\n",
       "        vertical-align: middle;\n",
       "    }\n",
       "\n",
       "    .dataframe tbody tr th {\n",
       "        vertical-align: top;\n",
       "    }\n",
       "\n",
       "    .dataframe thead th {\n",
       "        text-align: right;\n",
       "    }\n",
       "</style>\n",
       "<table border=\"1\" class=\"dataframe\">\n",
       "  <thead>\n",
       "    <tr style=\"text-align: right;\">\n",
       "      <th></th>\n",
       "      <th>units_per_order</th>\n",
       "      <th>on_sale</th>\n",
       "      <th>returned</th>\n",
       "      <th>backorder</th>\n",
       "      <th>make_delay_minutes</th>\n",
       "      <th>source_delay_minutes</th>\n",
       "      <th>delivery_delay_minutes</th>\n",
       "      <th>Bad_Plan</th>\n",
       "    </tr>\n",
       "  </thead>\n",
       "  <tbody>\n",
       "    <tr>\n",
       "      <th>units_per_order</th>\n",
       "      <td>1.000000</td>\n",
       "      <td>0.008649</td>\n",
       "      <td>-0.008314</td>\n",
       "      <td>0.070296</td>\n",
       "      <td>-0.013211</td>\n",
       "      <td>-0.027145</td>\n",
       "      <td>0.002599</td>\n",
       "      <td>-0.006303</td>\n",
       "    </tr>\n",
       "    <tr>\n",
       "      <th>on_sale</th>\n",
       "      <td>0.008649</td>\n",
       "      <td>1.000000</td>\n",
       "      <td>-0.002524</td>\n",
       "      <td>0.026867</td>\n",
       "      <td>-0.034179</td>\n",
       "      <td>-0.015117</td>\n",
       "      <td>0.033117</td>\n",
       "      <td>-0.016652</td>\n",
       "    </tr>\n",
       "    <tr>\n",
       "      <th>returned</th>\n",
       "      <td>-0.008314</td>\n",
       "      <td>-0.002524</td>\n",
       "      <td>1.000000</td>\n",
       "      <td>-0.013449</td>\n",
       "      <td>-0.049228</td>\n",
       "      <td>-0.007190</td>\n",
       "      <td>-0.025912</td>\n",
       "      <td>-0.008470</td>\n",
       "    </tr>\n",
       "    <tr>\n",
       "      <th>backorder</th>\n",
       "      <td>0.070296</td>\n",
       "      <td>0.026867</td>\n",
       "      <td>-0.013449</td>\n",
       "      <td>1.000000</td>\n",
       "      <td>-0.052459</td>\n",
       "      <td>-0.168996</td>\n",
       "      <td>0.087753</td>\n",
       "      <td>0.003788</td>\n",
       "    </tr>\n",
       "    <tr>\n",
       "      <th>make_delay_minutes</th>\n",
       "      <td>-0.013211</td>\n",
       "      <td>-0.034179</td>\n",
       "      <td>-0.049228</td>\n",
       "      <td>-0.052459</td>\n",
       "      <td>1.000000</td>\n",
       "      <td>0.238675</td>\n",
       "      <td>-0.212736</td>\n",
       "      <td>0.046050</td>\n",
       "    </tr>\n",
       "    <tr>\n",
       "      <th>source_delay_minutes</th>\n",
       "      <td>-0.027145</td>\n",
       "      <td>-0.015117</td>\n",
       "      <td>-0.007190</td>\n",
       "      <td>-0.168996</td>\n",
       "      <td>0.238675</td>\n",
       "      <td>1.000000</td>\n",
       "      <td>-0.122751</td>\n",
       "      <td>0.010547</td>\n",
       "    </tr>\n",
       "    <tr>\n",
       "      <th>delivery_delay_minutes</th>\n",
       "      <td>0.002599</td>\n",
       "      <td>0.033117</td>\n",
       "      <td>-0.025912</td>\n",
       "      <td>0.087753</td>\n",
       "      <td>-0.212736</td>\n",
       "      <td>-0.122751</td>\n",
       "      <td>1.000000</td>\n",
       "      <td>-0.067253</td>\n",
       "    </tr>\n",
       "    <tr>\n",
       "      <th>Bad_Plan</th>\n",
       "      <td>-0.006303</td>\n",
       "      <td>-0.016652</td>\n",
       "      <td>-0.008470</td>\n",
       "      <td>0.003788</td>\n",
       "      <td>0.046050</td>\n",
       "      <td>0.010547</td>\n",
       "      <td>-0.067253</td>\n",
       "      <td>1.000000</td>\n",
       "    </tr>\n",
       "  </tbody>\n",
       "</table>\n",
       "</div>"
      ],
      "text/plain": [
       "                        units_per_order   on_sale  returned  backorder  \\\n",
       "units_per_order                1.000000  0.008649 -0.008314   0.070296   \n",
       "on_sale                        0.008649  1.000000 -0.002524   0.026867   \n",
       "returned                      -0.008314 -0.002524  1.000000  -0.013449   \n",
       "backorder                      0.070296  0.026867 -0.013449   1.000000   \n",
       "make_delay_minutes            -0.013211 -0.034179 -0.049228  -0.052459   \n",
       "source_delay_minutes          -0.027145 -0.015117 -0.007190  -0.168996   \n",
       "delivery_delay_minutes         0.002599  0.033117 -0.025912   0.087753   \n",
       "Bad_Plan                      -0.006303 -0.016652 -0.008470   0.003788   \n",
       "\n",
       "                        make_delay_minutes  source_delay_minutes  \\\n",
       "units_per_order                  -0.013211             -0.027145   \n",
       "on_sale                          -0.034179             -0.015117   \n",
       "returned                         -0.049228             -0.007190   \n",
       "backorder                        -0.052459             -0.168996   \n",
       "make_delay_minutes                1.000000              0.238675   \n",
       "source_delay_minutes              0.238675              1.000000   \n",
       "delivery_delay_minutes           -0.212736             -0.122751   \n",
       "Bad_Plan                          0.046050              0.010547   \n",
       "\n",
       "                        delivery_delay_minutes  Bad_Plan  \n",
       "units_per_order                       0.002599 -0.006303  \n",
       "on_sale                               0.033117 -0.016652  \n",
       "returned                             -0.025912 -0.008470  \n",
       "backorder                             0.087753  0.003788  \n",
       "make_delay_minutes                   -0.212736  0.046050  \n",
       "source_delay_minutes                 -0.122751  0.010547  \n",
       "delivery_delay_minutes                1.000000 -0.067253  \n",
       "Bad_Plan                             -0.067253  1.000000  "
      ]
     },
     "execution_count": 41,
     "metadata": {},
     "output_type": "execute_result"
    }
   ],
   "source": [
    "df_corr= df_new[cols].corr()\n",
    "df_corr"
   ]
  },
  {
   "cell_type": "markdown",
   "metadata": {},
   "source": [
    "<b>\n",
    "Thus, none of the selected features are higly correlated, eliminating the problem of multi collinearity. \n",
    "</b>"
   ]
  },
  {
   "cell_type": "code",
   "execution_count": 42,
   "metadata": {},
   "outputs": [
    {
     "data": {
      "text/plain": [
       "{'country', 'facility', 'shipping_method'}"
      ]
     },
     "execution_count": 42,
     "metadata": {},
     "output_type": "execute_result"
    }
   ],
   "source": [
    "set(cols)-set(df_corr.index)"
   ]
  },
  {
   "cell_type": "code",
   "execution_count": 43,
   "metadata": {},
   "outputs": [],
   "source": [
    "## Sub-sampling the points for seeing any anomolies in the data\n",
    "df_temp=df_new.sample(10000)"
   ]
  },
  {
   "cell_type": "code",
   "execution_count": 44,
   "metadata": {},
   "outputs": [],
   "source": [
    "## After removing insiginificant factors\n",
    "result = sm.ols(formula='Total_delay_minutes ~ country + shipping_method + units_per_order + facility  + on_sale  + returned + backorder + make_delay_minutes + source_delay_minutes + delivery_delay_minutes + Bad_Plan', data=df_temp).fit()"
   ]
  },
  {
   "cell_type": "code",
   "execution_count": 45,
   "metadata": {},
   "outputs": [
    {
     "data": {
      "image/png": "[encoded data removed]",
      "text/plain": [
       "<Figure size 864x576 with 1 Axes>"
      ]
     },
     "metadata": {},
     "output_type": "display_data"
    }
   ],
   "source": [
    "import statsmodels.api as sg\n",
    "fig, ax = plt.subplots(figsize=(12,8))\n",
    "fig = sg.graphics.influence_plot(result, ax=ax, criterion=\"cooks\")"
   ]
  },
  {
   "cell_type": "markdown",
   "metadata": {},
   "source": [
    "<b>\n",
    "Clearly, there are many outliers for which we need a robust model that would not get affected by these high leverage points.\n",
    "Since there are many outliers in the data, adding data would lead to a poor model with poor R2. Therefore, we can use a sample of 50000 points to find the significant features/causes. \n",
    "\n",
    "Our primary goal through this linear model is to find the significance of each feature and their role in determining the cause in the delay. Therefore, with stats model linear models being more interpretable( in terms of significance), this package was chosen over other packages(sklearn Linear Regression).\n",
    "</b>"
   ]
  },
  {
   "cell_type": "code",
   "execution_count": 46,
   "metadata": {},
   "outputs": [
    {
     "data": {
      "text/html": [
       "<div>\n",
       "<style scoped>\n",
       "    .dataframe tbody tr th:only-of-type {\n",
       "        vertical-align: middle;\n",
       "    }\n",
       "\n",
       "    .dataframe tbody tr th {\n",
       "        vertical-align: top;\n",
       "    }\n",
       "\n",
       "    .dataframe thead th {\n",
       "        text-align: right;\n",
       "    }\n",
       "</style>\n",
       "<table border=\"1\" class=\"dataframe\">\n",
       "  <thead>\n",
       "    <tr style=\"text-align: right;\">\n",
       "      <th></th>\n",
       "      <th>Actual</th>\n",
       "      <th>Predicted</th>\n",
       "      <th>Residuals</th>\n",
       "    </tr>\n",
       "  </thead>\n",
       "  <tbody>\n",
       "    <tr>\n",
       "      <th>73395</th>\n",
       "      <td>-5760.0</td>\n",
       "      <td>-4903.408675</td>\n",
       "      <td>-856.591325</td>\n",
       "    </tr>\n",
       "    <tr>\n",
       "      <th>92775</th>\n",
       "      <td>-1440.0</td>\n",
       "      <td>-1469.869730</td>\n",
       "      <td>29.869730</td>\n",
       "    </tr>\n",
       "    <tr>\n",
       "      <th>8676</th>\n",
       "      <td>0.0</td>\n",
       "      <td>-1056.529397</td>\n",
       "      <td>1056.529397</td>\n",
       "    </tr>\n",
       "    <tr>\n",
       "      <th>4126</th>\n",
       "      <td>0.0</td>\n",
       "      <td>-225.929459</td>\n",
       "      <td>225.929459</td>\n",
       "    </tr>\n",
       "    <tr>\n",
       "      <th>8956</th>\n",
       "      <td>-8640.0</td>\n",
       "      <td>-3565.061473</td>\n",
       "      <td>-5074.938527</td>\n",
       "    </tr>\n",
       "  </tbody>\n",
       "</table>\n",
       "</div>"
      ],
      "text/plain": [
       "       Actual    Predicted    Residuals\n",
       "73395 -5760.0 -4903.408675  -856.591325\n",
       "92775 -1440.0 -1469.869730    29.869730\n",
       "8676      0.0 -1056.529397  1056.529397\n",
       "4126      0.0  -225.929459   225.929459\n",
       "8956  -8640.0 -3565.061473 -5074.938527"
      ]
     },
     "execution_count": 46,
     "metadata": {},
     "output_type": "execute_result"
    }
   ],
   "source": [
    "df_temp=df_new.sample(50000)\n",
    "tdf = df_temp[cols]\n",
    "df_fitted_vs_actual = pd.DataFrame()\n",
    "df_fitted_vs_actual['Actual'] = df_temp['Total_delay_minutes']\n",
    "df_fitted_vs_actual['Predicted'] = result.predict(exog = tdf)\n",
    "df_fitted_vs_actual['Residuals'] = df_fitted_vs_actual['Actual']-df_fitted_vs_actual['Predicted']\n",
    "df_fitted_vs_actual.head()"
   ]
  },
  {
   "cell_type": "code",
   "execution_count": 47,
   "metadata": {},
   "outputs": [
    {
     "data": {
      "text/plain": [
       "<matplotlib.collections.PathCollection at 0x21b9bca8438>"
      ]
     },
     "execution_count": 47,
     "metadata": {},
     "output_type": "execute_result"
    },
    {
     "data": {
      "image/png": "[encoded data removed]",
      "text/plain": [
       "<Figure size 864x576 with 1 Axes>"
      ]
     },
     "metadata": {},
     "output_type": "display_data"
    }
   ],
   "source": [
    "plt.figure(figsize=(12,8))\n",
    "plt.xlim(-7500,7500)\n",
    "plt.ylim(-7500, 7500)\n",
    "plt.xlabel(\"Fitted\")\n",
    "plt.ylabel(\"Residuals\")\n",
    "plt.scatter(df_fitted_vs_actual['Predicted'],df_fitted_vs_actual['Residuals'])"
   ]
  },
  {
   "cell_type": "markdown",
   "metadata": {},
   "source": [
    "### For finding the model with interactions\n",
    "Though each of the factors are not correlated to each other, there might be some interactions that can give a better reasoning for delay. This can be explored by trying all the possible interactions. "
   ]
  },
  {
   "cell_type": "code",
   "execution_count": 48,
   "metadata": {},
   "outputs": [],
   "source": [
    "from itertools import combinations_with_replacement \n",
    "comb_1=combinations_with_replacement(cols, 1)\n",
    "comb_2 = combinations_with_replacement(cols, 2)\n",
    "all_comb = list(comb_1)+list(comb_2)"
   ]
  },
  {
   "cell_type": "markdown",
   "metadata": {},
   "source": [
    "We are using adjusted r2 as the metric to include a term in the model or not. If there is an increase in the adjusted r2 value, the term is included, otherwise the term is ignored."
   ]
  },
  {
   "cell_type": "code",
   "execution_count": 49,
   "metadata": {},
   "outputs": [],
   "source": [
    "adjusted_r2=[]\n",
    "appended_comb = []\n",
    "ignored_comb = []\n",
    "formula_string = 'Total_delay_minutes ~ '\n",
    "for comb in all_comb:\n",
    "    temp_string = formula_string\n",
    "    if(len(comb)==1):\n",
    "        formula_string += ' + '+ comb[0]\n",
    "        \n",
    "    elif(len(comb)==2):\n",
    "        if(comb[0]==comb[1]):\n",
    "            formula_string += ' + '+comb[0]+'**'+'2'\n",
    "        else:\n",
    "            formula_string +=' + '+comb[0] +'*'+ comb[1]\n",
    "\n",
    "    result = sm.ols(formula=formula_string , data=df_temp).fit()\n",
    "    if(len(adjusted_r2)<1):\n",
    "        adjusted_r2.append(result.rsquared_adj)\n",
    "        appended_comb.append(comb)\n",
    "    else:\n",
    "        if(adjusted_r2[-1]>result.rsquared_adj):\n",
    "            ignored_comb.append(comb)\n",
    "            formula_string=temp_string\n",
    "        else:\n",
    "            appended_comb.append(comb)\n",
    "            adjusted_r2.append(result.rsquared_adj)"
   ]
  },
  {
   "cell_type": "code",
   "execution_count": 50,
   "metadata": {},
   "outputs": [
    {
     "data": {
      "text/plain": [
       "[('source_delay_minutes',),\n",
       " ('shipping_method', 'units_per_order'),\n",
       " ('shipping_method', 'returned'),\n",
       " ('units_per_order', 'make_delay_minutes'),\n",
       " ('units_per_order', 'Bad_Plan'),\n",
       " ('facility', 'returned'),\n",
       " ('on_sale', 'Bad_Plan'),\n",
       " ('source_delay_minutes', 'delivery_delay_minutes')]"
      ]
     },
     "execution_count": 50,
     "metadata": {},
     "output_type": "execute_result"
    }
   ],
   "source": [
    "ignored_comb"
   ]
  },
  {
   "cell_type": "code",
   "execution_count": 52,
   "metadata": {},
   "outputs": [
    {
     "data": {
      "text/plain": [
       "Text(0,0.5,'Adjusted R2')"
      ]
     },
     "execution_count": 52,
     "metadata": {},
     "output_type": "execute_result"
    },
    {
     "data": {
      "image/png": "[encoded data removed]",
      "text/plain": [
       "<Figure size 576x576 with 1 Axes>"
      ]
     },
     "metadata": {},
     "output_type": "display_data"
    }
   ],
   "source": [
    "plt.figure(figsize=(8,8))\n",
    "plt.plot(range(1,len(adjusted_r2)+1),adjusted_r2)\n",
    "plt.xlabel(\"Number of Significant Terms\")\n",
    "plt.ylabel(\"Adjusted R2\")"
   ]
  },
  {
   "cell_type": "code",
   "execution_count": 53,
   "metadata": {},
   "outputs": [],
   "source": [
    "## With the final formula string\n",
    "result = sm.ols(formula=formula_string , data=df_temp).fit()"
   ]
  },
  {
   "cell_type": "code",
   "execution_count": 54,
   "metadata": {},
   "outputs": [
    {
     "data": {
      "text/html": [
       "<table class=\"simpletable\">\n",
       "<caption>OLS Regression Results</caption>\n",
       "<tr>\n",
       "  <th>Dep. Variable:</th>    <td>Total_delay_minutes</td> <th>  R-squared:         </th>  <td>   0.586</td>  \n",
       "</tr>\n",
       "<tr>\n",
       "  <th>Model:</th>                    <td>OLS</td>         <th>  Adj. R-squared:    </th>  <td>   0.585</td>  \n",
       "</tr>\n",
       "<tr>\n",
       "  <th>Method:</th>              <td>Least Squares</td>    <th>  F-statistic:       </th>  <td>   522.7</td>  \n",
       "</tr>\n",
       "<tr>\n",
       "  <th>Date:</th>              <td>Mon, 15 Oct 2018</td>   <th>  Prob (F-statistic):</th>   <td>  0.00</td>   \n",
       "</tr>\n",
       "<tr>\n",
       "  <th>Time:</th>                  <td>23:20:51</td>       <th>  Log-Likelihood:    </th> <td>-4.4279e+05</td>\n",
       "</tr>\n",
       "<tr>\n",
       "  <th>No. Observations:</th>       <td> 50000</td>        <th>  AIC:               </th>  <td>8.859e+05</td> \n",
       "</tr>\n",
       "<tr>\n",
       "  <th>Df Residuals:</th>           <td> 49864</td>        <th>  BIC:               </th>  <td>8.871e+05</td> \n",
       "</tr>\n",
       "<tr>\n",
       "  <th>Df Model:</th>               <td>   135</td>        <th>                     </th>      <td> </td>     \n",
       "</tr>\n",
       "<tr>\n",
       "  <th>Covariance Type:</th>       <td>nonrobust</td>      <th>                     </th>      <td> </td>     \n",
       "</tr>\n",
       "</table>\n",
       "<table class=\"simpletable\">\n",
       "<tr>\n",
       "                            <td></td>                               <th>coef</th>     <th>std err</th>      <th>t</th>      <th>P>|t|</th>  <th>[0.025</th>    <th>0.975]</th>  \n",
       "</tr>\n",
       "<tr>\n",
       "  <th>Intercept</th>                                             <td> 1111.6068</td> <td>  226.715</td> <td>    4.903</td> <td> 0.000</td> <td>  667.244</td> <td> 1555.970</td>\n",
       "</tr>\n",
       "<tr>\n",
       "  <th>country[T.FRANCE]</th>                                     <td>  597.7842</td> <td>  203.732</td> <td>    2.934</td> <td> 0.003</td> <td>  198.468</td> <td>  997.101</td>\n",
       "</tr>\n",
       "<tr>\n",
       "  <th>country[T.GERMANY]</th>                                    <td> -650.3124</td> <td>  309.752</td> <td>   -2.099</td> <td> 0.036</td> <td>-1257.429</td> <td>  -43.196</td>\n",
       "</tr>\n",
       "<tr>\n",
       "  <th>country[T.NETHERLANDS]</th>                                <td>  452.6912</td> <td>  186.915</td> <td>    2.422</td> <td> 0.015</td> <td>   86.335</td> <td>  819.047</td>\n",
       "</tr>\n",
       "<tr>\n",
       "  <th>country[T.SWEDEN]</th>                                     <td>-2232.6225</td> <td>  203.162</td> <td>  -10.989</td> <td> 0.000</td> <td>-2630.822</td> <td>-1834.423</td>\n",
       "</tr>\n",
       "<tr>\n",
       "  <th>country[T.UNITED KINGDOM]</th>                             <td>  236.4537</td> <td>  137.877</td> <td>    1.715</td> <td> 0.086</td> <td>  -33.787</td> <td>  506.694</td>\n",
       "</tr>\n",
       "<tr>\n",
       "  <th>shipping_method[T.3-Day]</th>                              <td> -357.5163</td> <td>   47.184</td> <td>   -7.577</td> <td> 0.000</td> <td> -449.998</td> <td> -265.035</td>\n",
       "</tr>\n",
       "<tr>\n",
       "  <th>shipping_method[T.Ground]</th>                             <td> -359.1954</td> <td>  189.238</td> <td>   -1.898</td> <td> 0.058</td> <td> -730.104</td> <td>   11.713</td>\n",
       "</tr>\n",
       "<tr>\n",
       "  <th>shipping_method[T.Next Day]</th>                           <td> -123.2861</td> <td>   96.766</td> <td>   -1.274</td> <td> 0.203</td> <td> -312.948</td> <td>   66.376</td>\n",
       "</tr>\n",
       "<tr>\n",
       "  <th>facility[T.AUGSBURG]</th>                                  <td>  -52.0159</td> <td>   65.652</td> <td>   -0.792</td> <td> 0.428</td> <td> -180.694</td> <td>   76.662</td>\n",
       "</tr>\n",
       "<tr>\n",
       "  <th>facility[T.EINDHOVEN]</th>                                 <td> 1778.1212</td> <td>  504.320</td> <td>    3.526</td> <td> 0.000</td> <td>  789.648</td> <td> 2766.594</td>\n",
       "</tr>\n",
       "<tr>\n",
       "  <th>facility[T.HANOVER]</th>                                   <td>  331.1950</td> <td>   72.804</td> <td>    4.549</td> <td> 0.000</td> <td>  188.499</td> <td>  473.891</td>\n",
       "</tr>\n",
       "<tr>\n",
       "  <th>facility[T.MANCHESTER]</th>                                <td> -890.8873</td> <td>  228.124</td> <td>   -3.905</td> <td> 0.000</td> <td>-1338.013</td> <td> -443.761</td>\n",
       "</tr>\n",
       "<tr>\n",
       "  <th>facility[T.OXFORD]</th>                                    <td> -652.5904</td> <td>  204.537</td> <td>   -3.191</td> <td> 0.001</td> <td>-1053.485</td> <td> -251.696</td>\n",
       "</tr>\n",
       "<tr>\n",
       "  <th>country[T.FRANCE]:shipping_method[T.3-Day]</th>            <td>-3.719e-07</td> <td> 1.58e-07</td> <td>   -2.359</td> <td> 0.018</td> <td>-6.81e-07</td> <td>-6.29e-08</td>\n",
       "</tr>\n",
       "<tr>\n",
       "  <th>country[T.GERMANY]:shipping_method[T.3-Day]</th>           <td> -357.5163</td> <td>   47.184</td> <td>   -7.577</td> <td> 0.000</td> <td> -449.998</td> <td> -265.035</td>\n",
       "</tr>\n",
       "<tr>\n",
       "  <th>country[T.NETHERLANDS]:shipping_method[T.3-Day]</th>       <td>-2.744e-08</td> <td> 9.29e-08</td> <td>   -0.295</td> <td> 0.768</td> <td> -2.1e-07</td> <td> 1.55e-07</td>\n",
       "</tr>\n",
       "<tr>\n",
       "  <th>country[T.SWEDEN]:shipping_method[T.3-Day]</th>            <td>-5.195e-09</td> <td> 1.48e-09</td> <td>   -3.513</td> <td> 0.000</td> <td>-8.09e-09</td> <td> -2.3e-09</td>\n",
       "</tr>\n",
       "<tr>\n",
       "  <th>country[T.UNITED KINGDOM]:shipping_method[T.3-Day]</th>    <td>-2.284e-08</td> <td> 4.41e-09</td> <td>   -5.181</td> <td> 0.000</td> <td>-3.15e-08</td> <td>-1.42e-08</td>\n",
       "</tr>\n",
       "<tr>\n",
       "  <th>country[T.FRANCE]:shipping_method[T.Ground]</th>           <td>  279.0280</td> <td>  189.853</td> <td>    1.470</td> <td> 0.142</td> <td>  -93.085</td> <td>  651.141</td>\n",
       "</tr>\n",
       "<tr>\n",
       "  <th>country[T.GERMANY]:shipping_method[T.Ground]</th>          <td>-1613.0749</td> <td>  358.930</td> <td>   -4.494</td> <td> 0.000</td> <td>-2316.581</td> <td> -909.568</td>\n",
       "</tr>\n",
       "<tr>\n",
       "  <th>country[T.NETHERLANDS]:shipping_method[T.Ground]</th>      <td>  646.4612</td> <td>  173.367</td> <td>    3.729</td> <td> 0.000</td> <td>  306.659</td> <td>  986.263</td>\n",
       "</tr>\n",
       "<tr>\n",
       "  <th>country[T.SWEDEN]:shipping_method[T.Ground]</th>           <td>-2232.6225</td> <td>  203.162</td> <td>  -10.989</td> <td> 0.000</td> <td>-2630.822</td> <td>-1834.423</td>\n",
       "</tr>\n",
       "<tr>\n",
       "  <th>country[T.UNITED KINGDOM]:shipping_method[T.Ground]</th>   <td> -146.5998</td> <td>  164.347</td> <td>   -0.892</td> <td> 0.372</td> <td> -468.722</td> <td>  175.522</td>\n",
       "</tr>\n",
       "<tr>\n",
       "  <th>country[T.FRANCE]:shipping_method[T.Next Day]</th>         <td>  318.7563</td> <td>   80.355</td> <td>    3.967</td> <td> 0.000</td> <td>  161.259</td> <td>  476.253</td>\n",
       "</tr>\n",
       "<tr>\n",
       "  <th>country[T.GERMANY]:shipping_method[T.Next Day]</th>        <td> -227.6326</td> <td>   82.203</td> <td>   -2.769</td> <td> 0.006</td> <td> -388.751</td> <td>  -66.515</td>\n",
       "</tr>\n",
       "<tr>\n",
       "  <th>country[T.NETHERLANDS]:shipping_method[T.Next Day]</th>    <td> -193.7701</td> <td>  185.283</td> <td>   -1.046</td> <td> 0.296</td> <td> -556.927</td> <td>  169.387</td>\n",
       "</tr>\n",
       "<tr>\n",
       "  <th>country[T.SWEDEN]:shipping_method[T.Next Day]</th>         <td> 2.898e-08</td> <td> 1.15e-08</td> <td>    2.522</td> <td> 0.012</td> <td> 6.46e-09</td> <td> 5.15e-08</td>\n",
       "</tr>\n",
       "<tr>\n",
       "  <th>country[T.UNITED KINGDOM]:shipping_method[T.Next Day]</th> <td>  -20.6397</td> <td>  150.751</td> <td>   -0.137</td> <td> 0.891</td> <td> -316.114</td> <td>  274.835</td>\n",
       "</tr>\n",
       "<tr>\n",
       "  <th>country[T.FRANCE]:facility[T.AUGSBURG]</th>                <td>-1.125e-08</td> <td> 4.52e-09</td> <td>   -2.487</td> <td> 0.013</td> <td>-2.01e-08</td> <td>-2.39e-09</td>\n",
       "</tr>\n",
       "<tr>\n",
       "  <th>country[T.GERMANY]:facility[T.AUGSBURG]</th>               <td>  -52.0159</td> <td>   65.652</td> <td>   -0.792</td> <td> 0.428</td> <td> -180.694</td> <td>   76.662</td>\n",
       "</tr>\n",
       "<tr>\n",
       "  <th>country[T.NETHERLANDS]:facility[T.AUGSBURG]</th>           <td>-5.964e-09</td> <td> 2.61e-09</td> <td>   -2.285</td> <td> 0.022</td> <td>-1.11e-08</td> <td>-8.48e-10</td>\n",
       "</tr>\n",
       "<tr>\n",
       "  <th>country[T.SWEDEN]:facility[T.AUGSBURG]</th>                <td>-1.067e-08</td> <td>  2.6e-09</td> <td>   -4.107</td> <td> 0.000</td> <td>-1.58e-08</td> <td>-5.58e-09</td>\n",
       "</tr>\n",
       "<tr>\n",
       "  <th>country[T.UNITED KINGDOM]:facility[T.AUGSBURG]</th>        <td> 1.383e-09</td> <td>  2.9e-09</td> <td>    0.476</td> <td> 0.634</td> <td>-4.31e-09</td> <td> 7.07e-09</td>\n",
       "</tr>\n",
       "<tr>\n",
       "  <th>country[T.FRANCE]:facility[T.EINDHOVEN]</th>               <td> 1.986e-09</td> <td> 1.18e-09</td> <td>    1.678</td> <td> 0.093</td> <td>-3.34e-10</td> <td> 4.31e-09</td>\n",
       "</tr>\n",
       "<tr>\n",
       "  <th>country[T.GERMANY]:facility[T.EINDHOVEN]</th>              <td> -929.4914</td> <td>  404.570</td> <td>   -2.297</td> <td> 0.022</td> <td>-1722.454</td> <td> -136.529</td>\n",
       "</tr>\n",
       "<tr>\n",
       "  <th>country[T.NETHERLANDS]:facility[T.EINDHOVEN]</th>          <td> 2.803e-09</td> <td> 1.51e-09</td> <td>    1.853</td> <td> 0.064</td> <td>-1.62e-10</td> <td> 5.77e-09</td>\n",
       "</tr>\n",
       "<tr>\n",
       "  <th>country[T.SWEDEN]:facility[T.EINDHOVEN]</th>               <td>-4.418e-09</td> <td> 1.21e-09</td> <td>   -3.652</td> <td> 0.000</td> <td>-6.79e-09</td> <td>-2.05e-09</td>\n",
       "</tr>\n",
       "<tr>\n",
       "  <th>country[T.UNITED KINGDOM]:facility[T.EINDHOVEN]</th>       <td> 1.195e-09</td> <td> 1.53e-09</td> <td>    0.783</td> <td> 0.434</td> <td> -1.8e-09</td> <td> 4.18e-09</td>\n",
       "</tr>\n",
       "<tr>\n",
       "  <th>country[T.FRANCE]:facility[T.HANOVER]</th>                 <td>-2.675e-09</td> <td> 1.83e-09</td> <td>   -1.465</td> <td> 0.143</td> <td>-6.25e-09</td> <td> 9.05e-10</td>\n",
       "</tr>\n",
       "<tr>\n",
       "  <th>country[T.GERMANY]:facility[T.HANOVER]</th>                <td>  331.1950</td> <td>   72.804</td> <td>    4.549</td> <td> 0.000</td> <td>  188.499</td> <td>  473.891</td>\n",
       "</tr>\n",
       "<tr>\n",
       "  <th>country[T.NETHERLANDS]:facility[T.HANOVER]</th>            <td> 1.483e-09</td> <td> 2.07e-09</td> <td>    0.717</td> <td> 0.473</td> <td>-2.57e-09</td> <td> 5.53e-09</td>\n",
       "</tr>\n",
       "<tr>\n",
       "  <th>country[T.SWEDEN]:facility[T.HANOVER]</th>                 <td> 3.569e-09</td> <td> 1.42e-09</td> <td>    2.512</td> <td> 0.012</td> <td> 7.84e-10</td> <td> 6.35e-09</td>\n",
       "</tr>\n",
       "<tr>\n",
       "  <th>country[T.UNITED KINGDOM]:facility[T.HANOVER]</th>         <td> 1.252e-09</td> <td> 1.94e-09</td> <td>    0.646</td> <td> 0.518</td> <td>-2.55e-09</td> <td> 5.05e-09</td>\n",
       "</tr>\n",
       "<tr>\n",
       "  <th>country[T.FRANCE]:facility[T.MANCHESTER]</th>              <td> 6.175e-09</td> <td> 1.95e-09</td> <td>    3.168</td> <td> 0.002</td> <td> 2.35e-09</td> <td> 9.99e-09</td>\n",
       "</tr>\n",
       "<tr>\n",
       "  <th>country[T.GERMANY]:facility[T.MANCHESTER]</th>             <td>-6.756e-09</td> <td> 1.11e-09</td> <td>   -6.097</td> <td> 0.000</td> <td>-8.93e-09</td> <td>-4.58e-09</td>\n",
       "</tr>\n",
       "<tr>\n",
       "  <th>country[T.NETHERLANDS]:facility[T.MANCHESTER]</th>         <td>  452.6912</td> <td>  186.915</td> <td>    2.422</td> <td> 0.015</td> <td>   86.335</td> <td>  819.047</td>\n",
       "</tr>\n",
       "<tr>\n",
       "  <th>country[T.SWEDEN]:facility[T.MANCHESTER]</th>              <td>-1196.8973</td> <td>  149.540</td> <td>   -8.004</td> <td> 0.000</td> <td>-1489.996</td> <td> -903.798</td>\n",
       "</tr>\n",
       "<tr>\n",
       "  <th>country[T.UNITED KINGDOM]:facility[T.MANCHESTER]</th>      <td> -146.6811</td> <td>  109.191</td> <td>   -1.343</td> <td> 0.179</td> <td> -360.697</td> <td>   67.334</td>\n",
       "</tr>\n",
       "<tr>\n",
       "  <th>country[T.FRANCE]:facility[T.OXFORD]</th>                  <td>-3.669e-09</td> <td>  1.5e-09</td> <td>   -2.442</td> <td> 0.015</td> <td>-6.61e-09</td> <td>-7.24e-10</td>\n",
       "</tr>\n",
       "<tr>\n",
       "  <th>country[T.GERMANY]:facility[T.OXFORD]</th>                 <td>-7.544e-10</td> <td>  2.9e-10</td> <td>   -2.605</td> <td> 0.009</td> <td>-1.32e-09</td> <td>-1.87e-10</td>\n",
       "</tr>\n",
       "<tr>\n",
       "  <th>country[T.NETHERLANDS]:facility[T.OXFORD]</th>             <td>-1.315e-09</td> <td> 4.24e-10</td> <td>   -3.102</td> <td> 0.002</td> <td>-2.15e-09</td> <td>-4.84e-10</td>\n",
       "</tr>\n",
       "<tr>\n",
       "  <th>country[T.SWEDEN]:facility[T.OXFORD]</th>                  <td>-1035.7252</td> <td>  137.676</td> <td>   -7.523</td> <td> 0.000</td> <td>-1305.572</td> <td> -765.878</td>\n",
       "</tr>\n",
       "<tr>\n",
       "  <th>country[T.UNITED KINGDOM]:facility[T.OXFORD]</th>          <td>  383.1349</td> <td>  113.651</td> <td>    3.371</td> <td> 0.001</td> <td>  160.378</td> <td>  605.892</td>\n",
       "</tr>\n",
       "<tr>\n",
       "  <th>shipping_method[T.3-Day]:facility[T.AUGSBURG]</th>         <td> -314.0785</td> <td>   77.216</td> <td>   -4.068</td> <td> 0.000</td> <td> -465.423</td> <td> -162.734</td>\n",
       "</tr>\n",
       "<tr>\n",
       "  <th>shipping_method[T.Ground]:facility[T.AUGSBURG]</th>        <td>  217.9860</td> <td>  200.244</td> <td>    1.089</td> <td> 0.276</td> <td> -174.494</td> <td>  610.466</td>\n",
       "</tr>\n",
       "<tr>\n",
       "  <th>shipping_method[T.Next Day]:facility[T.AUGSBURG]</th>      <td>   23.4156</td> <td>  102.700</td> <td>    0.228</td> <td> 0.820</td> <td> -177.877</td> <td>  224.709</td>\n",
       "</tr>\n",
       "<tr>\n",
       "  <th>shipping_method[T.3-Day]:facility[T.EINDHOVEN]</th>        <td>   89.1509</td> <td>   88.240</td> <td>    1.010</td> <td> 0.312</td> <td>  -83.800</td> <td>  262.102</td>\n",
       "</tr>\n",
       "<tr>\n",
       "  <th>shipping_method[T.Ground]:facility[T.EINDHOVEN]</th>       <td>  598.4286</td> <td>  199.977</td> <td>    2.992</td> <td> 0.003</td> <td>  206.472</td> <td>  990.385</td>\n",
       "</tr>\n",
       "<tr>\n",
       "  <th>shipping_method[T.Next Day]:facility[T.EINDHOVEN]</th>     <td> -147.4310</td> <td>  113.635</td> <td>   -1.297</td> <td> 0.194</td> <td> -370.157</td> <td>   75.295</td>\n",
       "</tr>\n",
       "<tr>\n",
       "  <th>shipping_method[T.3-Day]:facility[T.HANOVER]</th>          <td> -132.5888</td> <td>   90.505</td> <td>   -1.465</td> <td> 0.143</td> <td> -309.980</td> <td>   44.802</td>\n",
       "</tr>\n",
       "<tr>\n",
       "  <th>shipping_method[T.Ground]:facility[T.HANOVER]</th>         <td>  278.1232</td> <td>  205.385</td> <td>    1.354</td> <td> 0.176</td> <td> -124.433</td> <td>  680.679</td>\n",
       "</tr>\n",
       "<tr>\n",
       "  <th>shipping_method[T.Next Day]:facility[T.HANOVER]</th>       <td> -103.6172</td> <td>  121.597</td> <td>   -0.852</td> <td> 0.394</td> <td> -341.948</td> <td>  134.714</td>\n",
       "</tr>\n",
       "<tr>\n",
       "  <th>shipping_method[T.3-Day]:facility[T.MANCHESTER]</th>       <td> 4.194e-11</td> <td> 3.22e-11</td> <td>    1.302</td> <td> 0.193</td> <td>-2.12e-11</td> <td> 1.05e-10</td>\n",
       "</tr>\n",
       "<tr>\n",
       "  <th>shipping_method[T.Ground]:facility[T.MANCHESTER]</th>      <td> -377.4726</td> <td>  273.006</td> <td>   -1.383</td> <td> 0.167</td> <td> -912.567</td> <td>  157.622</td>\n",
       "</tr>\n",
       "<tr>\n",
       "  <th>shipping_method[T.Next Day]:facility[T.MANCHESTER]</th>    <td>  272.9321</td> <td>  253.648</td> <td>    1.076</td> <td> 0.282</td> <td> -224.222</td> <td>  770.086</td>\n",
       "</tr>\n",
       "<tr>\n",
       "  <th>shipping_method[T.3-Day]:facility[T.OXFORD]</th>           <td>-3.401e-13</td> <td> 2.82e-12</td> <td>   -0.120</td> <td> 0.904</td> <td>-5.87e-12</td> <td> 5.19e-12</td>\n",
       "</tr>\n",
       "<tr>\n",
       "  <th>shipping_method[T.Ground]:facility[T.OXFORD]</th>          <td>-1355.2885</td> <td>  282.720</td> <td>   -4.794</td> <td> 0.000</td> <td>-1909.423</td> <td> -801.154</td>\n",
       "</tr>\n",
       "<tr>\n",
       "  <th>shipping_method[T.Next Day]:facility[T.OXFORD]</th>        <td> -487.3418</td> <td>  265.547</td> <td>   -1.835</td> <td> 0.066</td> <td>-1007.817</td> <td>   33.134</td>\n",
       "</tr>\n",
       "<tr>\n",
       "  <th>units_per_order</th>                                       <td> -793.2251</td> <td>  423.125</td> <td>   -1.875</td> <td> 0.061</td> <td>-1622.555</td> <td>   36.105</td>\n",
       "</tr>\n",
       "<tr>\n",
       "  <th>country[T.FRANCE]:units_per_order</th>                     <td>  950.2411</td> <td>  425.199</td> <td>    2.235</td> <td> 0.025</td> <td>  116.846</td> <td> 1783.636</td>\n",
       "</tr>\n",
       "<tr>\n",
       "  <th>country[T.GERMANY]:units_per_order</th>                    <td> 1807.3754</td> <td>  869.165</td> <td>    2.079</td> <td> 0.038</td> <td>  103.801</td> <td> 3510.950</td>\n",
       "</tr>\n",
       "<tr>\n",
       "  <th>country[T.NETHERLANDS]:units_per_order</th>                <td>  159.8525</td> <td>  415.392</td> <td>    0.385</td> <td> 0.700</td> <td> -654.321</td> <td>  974.026</td>\n",
       "</tr>\n",
       "<tr>\n",
       "  <th>country[T.SWEDEN]:units_per_order</th>                     <td>  487.1493</td> <td>  329.398</td> <td>    1.479</td> <td> 0.139</td> <td> -158.475</td> <td> 1132.774</td>\n",
       "</tr>\n",
       "<tr>\n",
       "  <th>country[T.UNITED KINGDOM]:units_per_order</th>             <td>  301.8068</td> <td>  215.124</td> <td>    1.403</td> <td> 0.161</td> <td> -119.838</td> <td>  723.452</td>\n",
       "</tr>\n",
       "<tr>\n",
       "  <th>units_per_order:facility[T.AUGSBURG]</th>                  <td> -931.2872</td> <td>  452.474</td> <td>   -2.058</td> <td> 0.040</td> <td>-1818.142</td> <td>  -44.433</td>\n",
       "</tr>\n",
       "<tr>\n",
       "  <th>units_per_order:facility[T.EINDHOVEN]</th>                 <td> -897.7618</td> <td>  450.182</td> <td>   -1.994</td> <td> 0.046</td> <td>-1780.124</td> <td>  -15.400</td>\n",
       "</tr>\n",
       "<tr>\n",
       "  <th>units_per_order:facility[T.HANOVER]</th>                   <td> -863.2259</td> <td>  453.576</td> <td>   -1.903</td> <td> 0.057</td> <td>-1752.240</td> <td>   25.788</td>\n",
       "</tr>\n",
       "<tr>\n",
       "  <th>units_per_order:facility[T.MANCHESTER]</th>                <td>  468.5979</td> <td>  269.932</td> <td>    1.736</td> <td> 0.083</td> <td>  -60.472</td> <td>  997.668</td>\n",
       "</tr>\n",
       "<tr>\n",
       "  <th>units_per_order:facility[T.OXFORD]</th>                    <td>  480.2107</td> <td>  270.863</td> <td>    1.773</td> <td> 0.076</td> <td>  -50.683</td> <td> 1011.105</td>\n",
       "</tr>\n",
       "<tr>\n",
       "  <th>on_sale</th>                                               <td>  693.0553</td> <td>  189.708</td> <td>    3.653</td> <td> 0.000</td> <td>  321.226</td> <td> 1064.885</td>\n",
       "</tr>\n",
       "<tr>\n",
       "  <th>country[T.FRANCE]:on_sale</th>                             <td> -574.0443</td> <td>  175.266</td> <td>   -3.275</td> <td> 0.001</td> <td> -917.567</td> <td> -230.522</td>\n",
       "</tr>\n",
       "<tr>\n",
       "  <th>country[T.GERMANY]:on_sale</th>                            <td> -820.6086</td> <td>  343.799</td> <td>   -2.387</td> <td> 0.017</td> <td>-1494.459</td> <td> -146.759</td>\n",
       "</tr>\n",
       "<tr>\n",
       "  <th>country[T.NETHERLANDS]:on_sale</th>                        <td> -631.6470</td> <td>  213.809</td> <td>   -2.954</td> <td> 0.003</td> <td>-1050.715</td> <td> -212.579</td>\n",
       "</tr>\n",
       "<tr>\n",
       "  <th>country[T.SWEDEN]:on_sale</th>                             <td> 2195.7057</td> <td>  230.935</td> <td>    9.508</td> <td> 0.000</td> <td> 1743.071</td> <td> 2648.341</td>\n",
       "</tr>\n",
       "<tr>\n",
       "  <th>country[T.UNITED KINGDOM]:on_sale</th>                     <td> -862.2348</td> <td>  112.191</td> <td>   -7.685</td> <td> 0.000</td> <td>-1082.130</td> <td> -642.339</td>\n",
       "</tr>\n",
       "<tr>\n",
       "  <th>shipping_method[T.3-Day]:on_sale</th>                      <td> -216.7283</td> <td>  102.281</td> <td>   -2.119</td> <td> 0.034</td> <td> -417.200</td> <td>  -16.257</td>\n",
       "</tr>\n",
       "<tr>\n",
       "  <th>shipping_method[T.Ground]:on_sale</th>                     <td> -165.5226</td> <td>   96.088</td> <td>   -1.723</td> <td> 0.085</td> <td> -353.857</td> <td>   22.812</td>\n",
       "</tr>\n",
       "<tr>\n",
       "  <th>shipping_method[T.Next Day]:on_sale</th>                   <td> -139.6814</td> <td>  106.154</td> <td>   -1.316</td> <td> 0.188</td> <td> -347.745</td> <td>   68.383</td>\n",
       "</tr>\n",
       "<tr>\n",
       "  <th>facility[T.AUGSBURG]:on_sale</th>                          <td>  280.3010</td> <td>  182.551</td> <td>    1.535</td> <td> 0.125</td> <td>  -77.501</td> <td>  638.103</td>\n",
       "</tr>\n",
       "<tr>\n",
       "  <th>facility[T.EINDHOVEN]:on_sale</th>                         <td>  236.5427</td> <td>  179.099</td> <td>    1.321</td> <td> 0.187</td> <td> -114.493</td> <td>  587.578</td>\n",
       "</tr>\n",
       "<tr>\n",
       "  <th>facility[T.HANOVER]:on_sale</th>                           <td>   48.4320</td> <td>  183.448</td> <td>    0.264</td> <td> 0.792</td> <td> -311.129</td> <td>  407.993</td>\n",
       "</tr>\n",
       "<tr>\n",
       "  <th>facility[T.MANCHESTER]:on_sale</th>                        <td>  234.0157</td> <td>  118.166</td> <td>    1.980</td> <td> 0.048</td> <td>    2.408</td> <td>  465.623</td>\n",
       "</tr>\n",
       "<tr>\n",
       "  <th>facility[T.OXFORD]:on_sale</th>                            <td>  467.8083</td> <td>  119.873</td> <td>    3.903</td> <td> 0.000</td> <td>  232.856</td> <td>  702.761</td>\n",
       "</tr>\n",
       "<tr>\n",
       "  <th>returned</th>                                              <td>  134.8174</td> <td>  435.739</td> <td>    0.309</td> <td> 0.757</td> <td> -719.237</td> <td>  988.872</td>\n",
       "</tr>\n",
       "<tr>\n",
       "  <th>country[T.FRANCE]:returned</th>                            <td>  -64.3867</td> <td>  434.197</td> <td>   -0.148</td> <td> 0.882</td> <td> -915.418</td> <td>  786.645</td>\n",
       "</tr>\n",
       "<tr>\n",
       "  <th>country[T.GERMANY]:returned</th>                           <td>   -8.5201</td> <td>  428.220</td> <td>   -0.020</td> <td> 0.984</td> <td> -847.836</td> <td>  830.795</td>\n",
       "</tr>\n",
       "<tr>\n",
       "  <th>country[T.NETHERLANDS]:returned</th>                       <td> -444.9488</td> <td>  753.139</td> <td>   -0.591</td> <td> 0.555</td> <td>-1921.110</td> <td> 1031.213</td>\n",
       "</tr>\n",
       "<tr>\n",
       "  <th>country[T.SWEDEN]:returned</th>                            <td> -821.4635</td> <td>  464.655</td> <td>   -1.768</td> <td> 0.077</td> <td>-1732.192</td> <td>   89.266</td>\n",
       "</tr>\n",
       "<tr>\n",
       "  <th>country[T.UNITED KINGDOM]:returned</th>                    <td>  -55.8602</td> <td>  429.334</td> <td>   -0.130</td> <td> 0.896</td> <td> -897.360</td> <td>  785.640</td>\n",
       "</tr>\n",
       "<tr>\n",
       "  <th>backorder</th>                                             <td> -680.4807</td> <td>  292.044</td> <td>   -2.330</td> <td> 0.020</td> <td>-1252.891</td> <td> -108.071</td>\n",
       "</tr>\n",
       "<tr>\n",
       "  <th>country[T.FRANCE]:backorder</th>                           <td> -673.8364</td> <td>  289.016</td> <td>   -2.331</td> <td> 0.020</td> <td>-1240.311</td> <td> -107.362</td>\n",
       "</tr>\n",
       "<tr>\n",
       "  <th>country[T.GERMANY]:backorder</th>                          <td>  945.2845</td> <td>  546.491</td> <td>    1.730</td> <td> 0.084</td> <td> -125.844</td> <td> 2016.413</td>\n",
       "</tr>\n",
       "<tr>\n",
       "  <th>country[T.NETHERLANDS]:backorder</th>                      <td>-1768.9097</td> <td>  356.542</td> <td>   -4.961</td> <td> 0.000</td> <td>-2467.737</td> <td>-1070.082</td>\n",
       "</tr>\n",
       "<tr>\n",
       "  <th>country[T.SWEDEN]:backorder</th>                           <td> 1998.5273</td> <td>  358.868</td> <td>    5.569</td> <td> 0.000</td> <td> 1295.142</td> <td> 2701.912</td>\n",
       "</tr>\n",
       "<tr>\n",
       "  <th>country[T.UNITED KINGDOM]:backorder</th>                   <td> 1021.0889</td> <td>  183.525</td> <td>    5.564</td> <td> 0.000</td> <td>  661.377</td> <td> 1380.801</td>\n",
       "</tr>\n",
       "<tr>\n",
       "  <th>shipping_method[T.3-Day]:backorder</th>                    <td>  185.5185</td> <td>  150.301</td> <td>    1.234</td> <td> 0.217</td> <td> -109.072</td> <td>  480.109</td>\n",
       "</tr>\n",
       "<tr>\n",
       "  <th>shipping_method[T.Ground]:backorder</th>                   <td>  245.4535</td> <td>  134.993</td> <td>    1.818</td> <td> 0.069</td> <td>  -19.135</td> <td>  510.041</td>\n",
       "</tr>\n",
       "<tr>\n",
       "  <th>shipping_method[T.Next Day]:backorder</th>                 <td> -233.2923</td> <td>  150.438</td> <td>   -1.551</td> <td> 0.121</td> <td> -528.153</td> <td>   61.568</td>\n",
       "</tr>\n",
       "<tr>\n",
       "  <th>facility[T.AUGSBURG]:backorder</th>                        <td> -288.3487</td> <td>  290.150</td> <td>   -0.994</td> <td> 0.320</td> <td> -857.047</td> <td>  280.349</td>\n",
       "</tr>\n",
       "<tr>\n",
       "  <th>facility[T.EINDHOVEN]:backorder</th>                       <td> -537.6576</td> <td>  283.674</td> <td>   -1.895</td> <td> 0.058</td> <td>-1093.663</td> <td>   18.347</td>\n",
       "</tr>\n",
       "<tr>\n",
       "  <th>facility[T.HANOVER]:backorder</th>                         <td> -431.3446</td> <td>  291.361</td> <td>   -1.480</td> <td> 0.139</td> <td>-1002.415</td> <td>  139.726</td>\n",
       "</tr>\n",
       "<tr>\n",
       "  <th>facility[T.MANCHESTER]:backorder</th>                      <td>  519.1165</td> <td>  190.972</td> <td>    2.718</td> <td> 0.007</td> <td>  144.809</td> <td>  893.424</td>\n",
       "</tr>\n",
       "<tr>\n",
       "  <th>facility[T.OXFORD]:backorder</th>                          <td>  731.5900</td> <td>  195.051</td> <td>    3.751</td> <td> 0.000</td> <td>  349.287</td> <td> 1113.893</td>\n",
       "</tr>\n",
       "<tr>\n",
       "  <th>make_delay_minutes</th>                                    <td>   -0.3957</td> <td>    0.064</td> <td>   -6.231</td> <td> 0.000</td> <td>   -0.520</td> <td>   -0.271</td>\n",
       "</tr>\n",
       "<tr>\n",
       "  <th>country[T.FRANCE]:make_delay_minutes</th>                  <td>   -0.6978</td> <td>    0.058</td> <td>  -11.957</td> <td> 0.000</td> <td>   -0.812</td> <td>   -0.583</td>\n",
       "</tr>\n",
       "<tr>\n",
       "  <th>country[T.GERMANY]:make_delay_minutes</th>                 <td>   -0.1174</td> <td>    0.080</td> <td>   -1.468</td> <td> 0.142</td> <td>   -0.274</td> <td>    0.039</td>\n",
       "</tr>\n",
       "<tr>\n",
       "  <th>country[T.NETHERLANDS]:make_delay_minutes</th>             <td>   -0.3084</td> <td>    0.142</td> <td>   -2.166</td> <td> 0.030</td> <td>   -0.587</td> <td>   -0.029</td>\n",
       "</tr>\n",
       "<tr>\n",
       "  <th>country[T.SWEDEN]:make_delay_minutes</th>                  <td>   -0.1882</td> <td>    0.057</td> <td>   -3.280</td> <td> 0.001</td> <td>   -0.301</td> <td>   -0.076</td>\n",
       "</tr>\n",
       "<tr>\n",
       "  <th>country[T.UNITED KINGDOM]:make_delay_minutes</th>          <td>    0.1772</td> <td>    0.048</td> <td>    3.705</td> <td> 0.000</td> <td>    0.083</td> <td>    0.271</td>\n",
       "</tr>\n",
       "<tr>\n",
       "  <th>shipping_method[T.3-Day]:make_delay_minutes</th>           <td>    0.0817</td> <td>    0.056</td> <td>    1.458</td> <td> 0.145</td> <td>   -0.028</td> <td>    0.192</td>\n",
       "</tr>\n",
       "<tr>\n",
       "  <th>shipping_method[T.Ground]:make_delay_minutes</th>          <td>    0.2048</td> <td>    0.055</td> <td>    3.749</td> <td> 0.000</td> <td>    0.098</td> <td>    0.312</td>\n",
       "</tr>\n",
       "<tr>\n",
       "  <th>shipping_method[T.Next Day]:make_delay_minutes</th>        <td>    0.3205</td> <td>    0.062</td> <td>    5.168</td> <td> 0.000</td> <td>    0.199</td> <td>    0.442</td>\n",
       "</tr>\n",
       "<tr>\n",
       "  <th>facility[T.AUGSBURG]:make_delay_minutes</th>               <td>    0.3749</td> <td>    0.047</td> <td>    8.024</td> <td> 0.000</td> <td>    0.283</td> <td>    0.466</td>\n",
       "</tr>\n",
       "<tr>\n",
       "  <th>facility[T.EINDHOVEN]:make_delay_minutes</th>              <td>    0.0245</td> <td>    0.044</td> <td>    0.554</td> <td> 0.580</td> <td>   -0.062</td> <td>    0.111</td>\n",
       "</tr>\n",
       "<tr>\n",
       "  <th>facility[T.HANOVER]:make_delay_minutes</th>                <td>    0.2221</td> <td>    0.047</td> <td>    4.732</td> <td> 0.000</td> <td>    0.130</td> <td>    0.314</td>\n",
       "</tr>\n",
       "<tr>\n",
       "  <th>facility[T.MANCHESTER]:make_delay_minutes</th>             <td>   -0.1026</td> <td>    0.041</td> <td>   -2.524</td> <td> 0.012</td> <td>   -0.182</td> <td>   -0.023</td>\n",
       "</tr>\n",
       "<tr>\n",
       "  <th>facility[T.OXFORD]:make_delay_minutes</th>                 <td>   -0.2168</td> <td>    0.041</td> <td>   -5.245</td> <td> 0.000</td> <td>   -0.298</td> <td>   -0.136</td>\n",
       "</tr>\n",
       "<tr>\n",
       "  <th>delivery_delay_minutes</th>                                <td>   -0.7957</td> <td>    0.028</td> <td>  -28.313</td> <td> 0.000</td> <td>   -0.851</td> <td>   -0.741</td>\n",
       "</tr>\n",
       "<tr>\n",
       "  <th>country[T.FRANCE]:delivery_delay_minutes</th>              <td>   -0.3366</td> <td>    0.018</td> <td>  -19.198</td> <td> 0.000</td> <td>   -0.371</td> <td>   -0.302</td>\n",
       "</tr>\n",
       "<tr>\n",
       "  <th>country[T.GERMANY]:delivery_delay_minutes</th>             <td>    0.1741</td> <td>    0.028</td> <td>    6.271</td> <td> 0.000</td> <td>    0.120</td> <td>    0.228</td>\n",
       "</tr>\n",
       "<tr>\n",
       "  <th>country[T.NETHERLANDS]:delivery_delay_minutes</th>         <td>    0.0083</td> <td>    0.096</td> <td>    0.086</td> <td> 0.931</td> <td>   -0.181</td> <td>    0.197</td>\n",
       "</tr>\n",
       "<tr>\n",
       "  <th>country[T.SWEDEN]:delivery_delay_minutes</th>              <td>   -0.2665</td> <td>    0.030</td> <td>   -8.769</td> <td> 0.000</td> <td>   -0.326</td> <td>   -0.207</td>\n",
       "</tr>\n",
       "<tr>\n",
       "  <th>country[T.UNITED KINGDOM]:delivery_delay_minutes</th>      <td>    0.1222</td> <td>    0.030</td> <td>    4.117</td> <td> 0.000</td> <td>    0.064</td> <td>    0.180</td>\n",
       "</tr>\n",
       "<tr>\n",
       "  <th>shipping_method[T.3-Day]:delivery_delay_minutes</th>       <td>    0.0151</td> <td>    0.027</td> <td>    0.566</td> <td> 0.571</td> <td>   -0.037</td> <td>    0.067</td>\n",
       "</tr>\n",
       "<tr>\n",
       "  <th>shipping_method[T.Ground]:delivery_delay_minutes</th>      <td>    0.1707</td> <td>    0.026</td> <td>    6.687</td> <td> 0.000</td> <td>    0.121</td> <td>    0.221</td>\n",
       "</tr>\n",
       "<tr>\n",
       "  <th>shipping_method[T.Next Day]:delivery_delay_minutes</th>    <td>    0.4158</td> <td>    0.029</td> <td>   14.197</td> <td> 0.000</td> <td>    0.358</td> <td>    0.473</td>\n",
       "</tr>\n",
       "<tr>\n",
       "  <th>facility[T.AUGSBURG]:delivery_delay_minutes</th>           <td>   -0.0853</td> <td>    0.019</td> <td>   -4.477</td> <td> 0.000</td> <td>   -0.123</td> <td>   -0.048</td>\n",
       "</tr>\n",
       "<tr>\n",
       "  <th>facility[T.EINDHOVEN]:delivery_delay_minutes</th>          <td>   -0.1406</td> <td>    0.017</td> <td>   -8.469</td> <td> 0.000</td> <td>   -0.173</td> <td>   -0.108</td>\n",
       "</tr>\n",
       "<tr>\n",
       "  <th>facility[T.HANOVER]:delivery_delay_minutes</th>            <td>   -0.0971</td> <td>    0.019</td> <td>   -5.175</td> <td> 0.000</td> <td>   -0.134</td> <td>   -0.060</td>\n",
       "</tr>\n",
       "<tr>\n",
       "  <th>facility[T.MANCHESTER]:delivery_delay_minutes</th>         <td>   -0.0839</td> <td>    0.022</td> <td>   -3.772</td> <td> 0.000</td> <td>   -0.128</td> <td>   -0.040</td>\n",
       "</tr>\n",
       "<tr>\n",
       "  <th>facility[T.OXFORD]:delivery_delay_minutes</th>             <td>   -0.0521</td> <td>    0.023</td> <td>   -2.294</td> <td> 0.022</td> <td>   -0.097</td> <td>   -0.008</td>\n",
       "</tr>\n",
       "<tr>\n",
       "  <th>Bad_Plan</th>                                              <td>  200.8826</td> <td>  627.025</td> <td>    0.320</td> <td> 0.749</td> <td>-1028.093</td> <td> 1429.858</td>\n",
       "</tr>\n",
       "<tr>\n",
       "  <th>country[T.FRANCE]:Bad_Plan</th>                            <td>-1126.9091</td> <td>  641.425</td> <td>   -1.757</td> <td> 0.079</td> <td>-2384.110</td> <td>  130.292</td>\n",
       "</tr>\n",
       "<tr>\n",
       "  <th>country[T.GERMANY]:Bad_Plan</th>                           <td>  431.7889</td> <td> 1231.098</td> <td>    0.351</td> <td> 0.726</td> <td>-1981.178</td> <td> 2844.756</td>\n",
       "</tr>\n",
       "<tr>\n",
       "  <th>country[T.NETHERLANDS]:Bad_Plan</th>                       <td>  760.8957</td> <td>  684.350</td> <td>    1.112</td> <td> 0.266</td> <td> -580.438</td> <td> 2102.229</td>\n",
       "</tr>\n",
       "<tr>\n",
       "  <th>country[T.SWEDEN]:Bad_Plan</th>                            <td> 1281.2520</td> <td>  669.100</td> <td>    1.915</td> <td> 0.056</td> <td>  -30.191</td> <td> 2592.695</td>\n",
       "</tr>\n",
       "<tr>\n",
       "  <th>country[T.UNITED KINGDOM]:Bad_Plan</th>                    <td> -422.7566</td> <td>  387.123</td> <td>   -1.092</td> <td> 0.275</td> <td>-1181.522</td> <td>  336.009</td>\n",
       "</tr>\n",
       "<tr>\n",
       "  <th>shipping_method[T.3-Day]:Bad_Plan</th>                     <td> 1128.0392</td> <td>  227.667</td> <td>    4.955</td> <td> 0.000</td> <td>  681.809</td> <td> 1574.270</td>\n",
       "</tr>\n",
       "<tr>\n",
       "  <th>shipping_method[T.Ground]:Bad_Plan</th>                    <td> 1437.3004</td> <td>  215.688</td> <td>    6.664</td> <td> 0.000</td> <td> 1014.549</td> <td> 1860.052</td>\n",
       "</tr>\n",
       "<tr>\n",
       "  <th>shipping_method[T.Next Day]:Bad_Plan</th>                  <td>  841.0437</td> <td>  292.302</td> <td>    2.877</td> <td> 0.004</td> <td>  268.128</td> <td> 1413.959</td>\n",
       "</tr>\n",
       "<tr>\n",
       "  <th>facility[T.AUGSBURG]:Bad_Plan</th>                         <td>  280.4217</td> <td>  645.680</td> <td>    0.434</td> <td> 0.664</td> <td> -985.119</td> <td> 1545.962</td>\n",
       "</tr>\n",
       "<tr>\n",
       "  <th>facility[T.EINDHOVEN]:Bad_Plan</th>                        <td> -324.1770</td> <td>  640.583</td> <td>   -0.506</td> <td> 0.613</td> <td>-1579.728</td> <td>  931.374</td>\n",
       "</tr>\n",
       "<tr>\n",
       "  <th>facility[T.HANOVER]:Bad_Plan</th>                          <td> -247.8441</td> <td>  650.326</td> <td>   -0.381</td> <td> 0.703</td> <td>-1522.490</td> <td> 1026.802</td>\n",
       "</tr>\n",
       "<tr>\n",
       "  <th>facility[T.MANCHESTER]:Bad_Plan</th>                       <td>  525.1084</td> <td>  413.554</td> <td>    1.270</td> <td> 0.204</td> <td> -285.461</td> <td> 1335.678</td>\n",
       "</tr>\n",
       "<tr>\n",
       "  <th>facility[T.OXFORD]:Bad_Plan</th>                           <td> 1094.2827</td> <td>  427.278</td> <td>    2.561</td> <td> 0.010</td> <td>  256.812</td> <td> 1931.753</td>\n",
       "</tr>\n",
       "<tr>\n",
       "  <th>source_delay_minutes</th>                                  <td>   -0.0244</td> <td>    0.076</td> <td>   -0.320</td> <td> 0.749</td> <td>   -0.174</td> <td>    0.125</td>\n",
       "</tr>\n",
       "<tr>\n",
       "  <th>country[T.FRANCE]:source_delay_minutes</th>                <td>   -0.2616</td> <td>    0.077</td> <td>   -3.391</td> <td> 0.001</td> <td>   -0.413</td> <td>   -0.110</td>\n",
       "</tr>\n",
       "<tr>\n",
       "  <th>country[T.GERMANY]:source_delay_minutes</th>               <td>   -0.0035</td> <td>    0.143</td> <td>   -0.025</td> <td> 0.980</td> <td>   -0.284</td> <td>    0.277</td>\n",
       "</tr>\n",
       "<tr>\n",
       "  <th>country[T.NETHERLANDS]:source_delay_minutes</th>           <td>   -0.0007</td> <td>    0.077</td> <td>   -0.009</td> <td> 0.993</td> <td>   -0.152</td> <td>    0.150</td>\n",
       "</tr>\n",
       "<tr>\n",
       "  <th>country[T.SWEDEN]:source_delay_minutes</th>                <td>   -0.0850</td> <td>    0.060</td> <td>   -1.423</td> <td> 0.155</td> <td>   -0.202</td> <td>    0.032</td>\n",
       "</tr>\n",
       "<tr>\n",
       "  <th>country[T.UNITED KINGDOM]:source_delay_minutes</th>        <td>    0.2447</td> <td>    0.039</td> <td>    6.233</td> <td> 0.000</td> <td>    0.168</td> <td>    0.322</td>\n",
       "</tr>\n",
       "<tr>\n",
       "  <th>shipping_method[T.3-Day]:source_delay_minutes</th>         <td>   -0.0750</td> <td>    0.035</td> <td>   -2.153</td> <td> 0.031</td> <td>   -0.143</td> <td>   -0.007</td>\n",
       "</tr>\n",
       "<tr>\n",
       "  <th>shipping_method[T.Ground]:source_delay_minutes</th>        <td>    0.0011</td> <td>    0.033</td> <td>    0.032</td> <td> 0.975</td> <td>   -0.065</td> <td>    0.067</td>\n",
       "</tr>\n",
       "<tr>\n",
       "  <th>shipping_method[T.Next Day]:source_delay_minutes</th>      <td>   -0.3833</td> <td>    0.040</td> <td>   -9.551</td> <td> 0.000</td> <td>   -0.462</td> <td>   -0.305</td>\n",
       "</tr>\n",
       "<tr>\n",
       "  <th>facility[T.AUGSBURG]:source_delay_minutes</th>             <td>    0.0356</td> <td>    0.075</td> <td>    0.473</td> <td> 0.636</td> <td>   -0.112</td> <td>    0.183</td>\n",
       "</tr>\n",
       "<tr>\n",
       "  <th>facility[T.EINDHOVEN]:source_delay_minutes</th>            <td>   -0.0133</td> <td>    0.075</td> <td>   -0.179</td> <td> 0.858</td> <td>   -0.159</td> <td>    0.133</td>\n",
       "</tr>\n",
       "<tr>\n",
       "  <th>facility[T.HANOVER]:source_delay_minutes</th>              <td>    0.0560</td> <td>    0.075</td> <td>    0.742</td> <td> 0.458</td> <td>   -0.092</td> <td>    0.204</td>\n",
       "</tr>\n",
       "<tr>\n",
       "  <th>facility[T.MANCHESTER]:source_delay_minutes</th>           <td>    0.1521</td> <td>    0.047</td> <td>    3.261</td> <td> 0.001</td> <td>    0.061</td> <td>    0.243</td>\n",
       "</tr>\n",
       "<tr>\n",
       "  <th>facility[T.OXFORD]:source_delay_minutes</th>               <td>    0.0069</td> <td>    0.047</td> <td>    0.145</td> <td> 0.885</td> <td>   -0.086</td> <td>    0.100</td>\n",
       "</tr>\n",
       "<tr>\n",
       "  <th>units_per_order:on_sale</th>                               <td>  -17.8536</td> <td>   36.859</td> <td>   -0.484</td> <td> 0.628</td> <td>  -90.097</td> <td>   54.390</td>\n",
       "</tr>\n",
       "<tr>\n",
       "  <th>units_per_order:returned</th>                              <td>  110.6760</td> <td>   53.953</td> <td>    2.051</td> <td> 0.040</td> <td>    4.928</td> <td>  216.424</td>\n",
       "</tr>\n",
       "<tr>\n",
       "  <th>units_per_order:backorder</th>                             <td>    3.5519</td> <td>   36.424</td> <td>    0.098</td> <td> 0.922</td> <td>  -67.839</td> <td>   74.943</td>\n",
       "</tr>\n",
       "<tr>\n",
       "  <th>units_per_order:source_delay_minutes</th>                  <td>   -0.1494</td> <td>    0.011</td> <td>  -13.981</td> <td> 0.000</td> <td>   -0.170</td> <td>   -0.128</td>\n",
       "</tr>\n",
       "<tr>\n",
       "  <th>units_per_order:delivery_delay_minutes</th>                <td>    0.0159</td> <td>    0.010</td> <td>    1.552</td> <td> 0.121</td> <td>   -0.004</td> <td>    0.036</td>\n",
       "</tr>\n",
       "<tr>\n",
       "  <th>on_sale:returned</th>                                      <td>   61.7253</td> <td>   44.713</td> <td>    1.380</td> <td> 0.167</td> <td>  -25.912</td> <td>  149.363</td>\n",
       "</tr>\n",
       "<tr>\n",
       "  <th>on_sale:backorder</th>                                     <td>   66.1772</td> <td>   57.700</td> <td>    1.147</td> <td> 0.251</td> <td>  -46.916</td> <td>  179.270</td>\n",
       "</tr>\n",
       "<tr>\n",
       "  <th>on_sale:make_delay_minutes</th>                            <td>   -0.0161</td> <td>    0.014</td> <td>   -1.147</td> <td> 0.251</td> <td>   -0.044</td> <td>    0.011</td>\n",
       "</tr>\n",
       "<tr>\n",
       "  <th>on_sale:source_delay_minutes</th>                          <td>   -0.0040</td> <td>    0.010</td> <td>   -0.391</td> <td> 0.696</td> <td>   -0.024</td> <td>    0.016</td>\n",
       "</tr>\n",
       "<tr>\n",
       "  <th>on_sale:delivery_delay_minutes</th>                        <td>    0.0186</td> <td>    0.007</td> <td>    2.707</td> <td> 0.007</td> <td>    0.005</td> <td>    0.032</td>\n",
       "</tr>\n",
       "<tr>\n",
       "  <th>returned:backorder</th>                                    <td>  255.6544</td> <td>   81.697</td> <td>    3.129</td> <td> 0.002</td> <td>   95.527</td> <td>  415.781</td>\n",
       "</tr>\n",
       "<tr>\n",
       "  <th>returned:make_delay_minutes</th>                           <td>   -0.0515</td> <td>    0.020</td> <td>   -2.625</td> <td> 0.009</td> <td>   -0.090</td> <td>   -0.013</td>\n",
       "</tr>\n",
       "<tr>\n",
       "  <th>returned:source_delay_minutes</th>                         <td>   -0.0613</td> <td>    0.017</td> <td>   -3.616</td> <td> 0.000</td> <td>   -0.095</td> <td>   -0.028</td>\n",
       "</tr>\n",
       "<tr>\n",
       "  <th>returned:delivery_delay_minutes</th>                       <td>   -0.0623</td> <td>    0.009</td> <td>   -7.146</td> <td> 0.000</td> <td>   -0.079</td> <td>   -0.045</td>\n",
       "</tr>\n",
       "<tr>\n",
       "  <th>returned:Bad_Plan</th>                                     <td> -111.8479</td> <td>  144.537</td> <td>   -0.774</td> <td> 0.439</td> <td> -395.143</td> <td>  171.447</td>\n",
       "</tr>\n",
       "<tr>\n",
       "  <th>backorder:make_delay_minutes</th>                          <td>   -0.0013</td> <td>    0.024</td> <td>   -0.056</td> <td> 0.956</td> <td>   -0.049</td> <td>    0.046</td>\n",
       "</tr>\n",
       "<tr>\n",
       "  <th>backorder:source_delay_minutes</th>                        <td>    0.3201</td> <td>    0.011</td> <td>   28.193</td> <td> 0.000</td> <td>    0.298</td> <td>    0.342</td>\n",
       "</tr>\n",
       "<tr>\n",
       "  <th>backorder:delivery_delay_minutes</th>                      <td>    0.0946</td> <td>    0.012</td> <td>    7.773</td> <td> 0.000</td> <td>    0.071</td> <td>    0.119</td>\n",
       "</tr>\n",
       "<tr>\n",
       "  <th>backorder:Bad_Plan</th>                                    <td> -596.2163</td> <td>  157.955</td> <td>   -3.775</td> <td> 0.000</td> <td> -905.809</td> <td> -286.623</td>\n",
       "</tr>\n",
       "<tr>\n",
       "  <th>make_delay_minutes:source_delay_minutes</th>               <td>-2.801e-05</td> <td> 3.71e-06</td> <td>   -7.551</td> <td> 0.000</td> <td>-3.53e-05</td> <td>-2.07e-05</td>\n",
       "</tr>\n",
       "<tr>\n",
       "  <th>make_delay_minutes:delivery_delay_minutes</th>             <td>-6.028e-05</td> <td> 2.73e-06</td> <td>  -22.061</td> <td> 0.000</td> <td>-6.56e-05</td> <td>-5.49e-05</td>\n",
       "</tr>\n",
       "<tr>\n",
       "  <th>make_delay_minutes:Bad_Plan</th>                           <td>    0.1777</td> <td>    0.049</td> <td>    3.659</td> <td> 0.000</td> <td>    0.083</td> <td>    0.273</td>\n",
       "</tr>\n",
       "<tr>\n",
       "  <th>source_delay_minutes:Bad_Plan</th>                         <td>    0.2064</td> <td>    0.047</td> <td>    4.394</td> <td> 0.000</td> <td>    0.114</td> <td>    0.299</td>\n",
       "</tr>\n",
       "<tr>\n",
       "  <th>delivery_delay_minutes:Bad_Plan</th>                       <td>    0.5742</td> <td>    0.061</td> <td>    9.412</td> <td> 0.000</td> <td>    0.455</td> <td>    0.694</td>\n",
       "</tr>\n",
       "</table>\n",
       "<table class=\"simpletable\">\n",
       "<tr>\n",
       "  <th>Omnibus:</th>       <td>6465.510</td> <th>  Durbin-Watson:     </th> <td>   1.987</td> \n",
       "</tr>\n",
       "<tr>\n",
       "  <th>Prob(Omnibus):</th>  <td> 0.000</td>  <th>  Jarque-Bera (JB):  </th> <td>34346.454</td>\n",
       "</tr>\n",
       "<tr>\n",
       "  <th>Skew:</th>           <td>-0.515</td>  <th>  Prob(JB):          </th> <td>    0.00</td> \n",
       "</tr>\n",
       "<tr>\n",
       "  <th>Kurtosis:</th>       <td> 6.928</td>  <th>  Cond. No.          </th> <td>1.11e+16</td> \n",
       "</tr>\n",
       "</table><br/><br/>Warnings:<br/>[1] Standard Errors assume that the covariance matrix of the errors is correctly specified.<br/>[2] The smallest eigenvalue is 9.39e-15. This might indicate that there are<br/>strong multicollinearity problems or that the design matrix is singular."
      ],
      "text/plain": [
       "<class 'statsmodels.iolib.summary.Summary'>\n",
       "\"\"\"\n",
       "                             OLS Regression Results                            \n",
       "===============================================================================\n",
       "Dep. Variable:     Total_delay_minutes   R-squared:                       0.586\n",
       "Model:                             OLS   Adj. R-squared:                  0.585\n",
       "Method:                  Least Squares   F-statistic:                     522.7\n",
       "Date:                 Mon, 15 Oct 2018   Prob (F-statistic):               0.00\n",
       "Time:                         23:20:51   Log-Likelihood:            -4.4279e+05\n",
       "No. Observations:                50000   AIC:                         8.859e+05\n",
       "Df Residuals:                    49864   BIC:                         8.871e+05\n",
       "Df Model:                          135                                         \n",
       "Covariance Type:             nonrobust                                         \n",
       "=========================================================================================================================\n",
       "                                                            coef    std err          t      P>|t|      [0.025      0.975]\n",
       "-------------------------------------------------------------------------------------------------------------------------\n",
       "Intercept                                              1111.6068    226.715      4.903      0.000     667.244    1555.970\n",
       "country[T.FRANCE]                                       597.7842    203.732      2.934      0.003     198.468     997.101\n",
       "country[T.GERMANY]                                     -650.3124    309.752     -2.099      0.036   -1257.429     -43.196\n",
       "country[T.NETHERLANDS]                                  452.6912    186.915      2.422      0.015      86.335     819.047\n",
       "country[T.SWEDEN]                                     -2232.6225    203.162    -10.989      0.000   -2630.822   -1834.423\n",
       "country[T.UNITED KINGDOM]                               236.4537    137.877      1.715      0.086     -33.787     506.694\n",
       "shipping_method[T.3-Day]                               -357.5163     47.184     -7.577      0.000    -449.998    -265.035\n",
       "shipping_method[T.Ground]                              -359.1954    189.238     -1.898      0.058    -730.104      11.713\n",
       "shipping_method[T.Next Day]                            -123.2861     96.766     -1.274      0.203    -312.948      66.376\n",
       "facility[T.AUGSBURG]                                    -52.0159     65.652     -0.792      0.428    -180.694      76.662\n",
       "facility[T.EINDHOVEN]                                  1778.1212    504.320      3.526      0.000     789.648    2766.594\n",
       "facility[T.HANOVER]                                     331.1950     72.804      4.549      0.000     188.499     473.891\n",
       "facility[T.MANCHESTER]                                 -890.8873    228.124     -3.905      0.000   -1338.013    -443.761\n",
       "facility[T.OXFORD]                                     -652.5904    204.537     -3.191      0.001   -1053.485    -251.696\n",
       "country[T.FRANCE]:shipping_method[T.3-Day]            -3.719e-07   1.58e-07     -2.359      0.018   -6.81e-07   -6.29e-08\n",
       "country[T.GERMANY]:shipping_method[T.3-Day]            -357.5163     47.184     -7.577      0.000    -449.998    -265.035\n",
       "country[T.NETHERLANDS]:shipping_method[T.3-Day]       -2.744e-08   9.29e-08     -0.295      0.768    -2.1e-07    1.55e-07\n",
       "country[T.SWEDEN]:shipping_method[T.3-Day]            -5.195e-09   1.48e-09     -3.513      0.000   -8.09e-09    -2.3e-09\n",
       "country[T.UNITED KINGDOM]:shipping_method[T.3-Day]    -2.284e-08   4.41e-09     -5.181      0.000   -3.15e-08   -1.42e-08\n",
       "country[T.FRANCE]:shipping_method[T.Ground]             279.0280    189.853      1.470      0.142     -93.085     651.141\n",
       "country[T.GERMANY]:shipping_method[T.Ground]          -1613.0749    358.930     -4.494      0.000   -2316.581    -909.568\n",
       "country[T.NETHERLANDS]:shipping_method[T.Ground]        646.4612    173.367      3.729      0.000     306.659     986.263\n",
       "country[T.SWEDEN]:shipping_method[T.Ground]           -2232.6225    203.162    -10.989      0.000   -2630.822   -1834.423\n",
       "country[T.UNITED KINGDOM]:shipping_method[T.Ground]    -146.5998    164.347     -0.892      0.372    -468.722     175.522\n",
       "country[T.FRANCE]:shipping_method[T.Next Day]           318.7563     80.355      3.967      0.000     161.259     476.253\n",
       "country[T.GERMANY]:shipping_method[T.Next Day]         -227.6326     82.203     -2.769      0.006    -388.751     -66.515\n",
       "country[T.NETHERLANDS]:shipping_method[T.Next Day]     -193.7701    185.283     -1.046      0.296    -556.927     169.387\n",
       "country[T.SWEDEN]:shipping_method[T.Next Day]          2.898e-08   1.15e-08      2.522      0.012    6.46e-09    5.15e-08\n",
       "country[T.UNITED KINGDOM]:shipping_method[T.Next Day]   -20.6397    150.751     -0.137      0.891    -316.114     274.835\n",
       "country[T.FRANCE]:facility[T.AUGSBURG]                -1.125e-08   4.52e-09     -2.487      0.013   -2.01e-08   -2.39e-09\n",
       "country[T.GERMANY]:facility[T.AUGSBURG]                 -52.0159     65.652     -0.792      0.428    -180.694      76.662\n",
       "country[T.NETHERLANDS]:facility[T.AUGSBURG]           -5.964e-09   2.61e-09     -2.285      0.022   -1.11e-08   -8.48e-10\n",
       "country[T.SWEDEN]:facility[T.AUGSBURG]                -1.067e-08    2.6e-09     -4.107      0.000   -1.58e-08   -5.58e-09\n",
       "country[T.UNITED KINGDOM]:facility[T.AUGSBURG]         1.383e-09    2.9e-09      0.476      0.634   -4.31e-09    7.07e-09\n",
       "country[T.FRANCE]:facility[T.EINDHOVEN]                1.986e-09   1.18e-09      1.678      0.093   -3.34e-10    4.31e-09\n",
       "country[T.GERMANY]:facility[T.EINDHOVEN]               -929.4914    404.570     -2.297      0.022   -1722.454    -136.529\n",
       "country[T.NETHERLANDS]:facility[T.EINDHOVEN]           2.803e-09   1.51e-09      1.853      0.064   -1.62e-10    5.77e-09\n",
       "country[T.SWEDEN]:facility[T.EINDHOVEN]               -4.418e-09   1.21e-09     -3.652      0.000   -6.79e-09   -2.05e-09\n",
       "country[T.UNITED KINGDOM]:facility[T.EINDHOVEN]        1.195e-09   1.53e-09      0.783      0.434    -1.8e-09    4.18e-09\n",
       "country[T.FRANCE]:facility[T.HANOVER]                 -2.675e-09   1.83e-09     -1.465      0.143   -6.25e-09    9.05e-10\n",
       "country[T.GERMANY]:facility[T.HANOVER]                  331.1950     72.804      4.549      0.000     188.499     473.891\n",
       "country[T.NETHERLANDS]:facility[T.HANOVER]             1.483e-09   2.07e-09      0.717      0.473   -2.57e-09    5.53e-09\n",
       "country[T.SWEDEN]:facility[T.HANOVER]                  3.569e-09   1.42e-09      2.512      0.012    7.84e-10    6.35e-09\n",
       "country[T.UNITED KINGDOM]:facility[T.HANOVER]          1.252e-09   1.94e-09      0.646      0.518   -2.55e-09    5.05e-09\n",
       "country[T.FRANCE]:facility[T.MANCHESTER]               6.175e-09   1.95e-09      3.168      0.002    2.35e-09    9.99e-09\n",
       "country[T.GERMANY]:facility[T.MANCHESTER]             -6.756e-09   1.11e-09     -6.097      0.000   -8.93e-09   -4.58e-09\n",
       "country[T.NETHERLANDS]:facility[T.MANCHESTER]           452.6912    186.915      2.422      0.015      86.335     819.047\n",
       "country[T.SWEDEN]:facility[T.MANCHESTER]              -1196.8973    149.540     -8.004      0.000   -1489.996    -903.798\n",
       "country[T.UNITED KINGDOM]:facility[T.MANCHESTER]       -146.6811    109.191     -1.343      0.179    -360.697      67.334\n",
       "country[T.FRANCE]:facility[T.OXFORD]                  -3.669e-09    1.5e-09     -2.442      0.015   -6.61e-09   -7.24e-10\n",
       "country[T.GERMANY]:facility[T.OXFORD]                 -7.544e-10    2.9e-10     -2.605      0.009   -1.32e-09   -1.87e-10\n",
       "country[T.NETHERLANDS]:facility[T.OXFORD]             -1.315e-09   4.24e-10     -3.102      0.002   -2.15e-09   -4.84e-10\n",
       "country[T.SWEDEN]:facility[T.OXFORD]                  -1035.7252    137.676     -7.523      0.000   -1305.572    -765.878\n",
       "country[T.UNITED KINGDOM]:facility[T.OXFORD]            383.1349    113.651      3.371      0.001     160.378     605.892\n",
       "shipping_method[T.3-Day]:facility[T.AUGSBURG]          -314.0785     77.216     -4.068      0.000    -465.423    -162.734\n",
       "shipping_method[T.Ground]:facility[T.AUGSBURG]          217.9860    200.244      1.089      0.276    -174.494     610.466\n",
       "shipping_method[T.Next Day]:facility[T.AUGSBURG]         23.4156    102.700      0.228      0.820    -177.877     224.709\n",
       "shipping_method[T.3-Day]:facility[T.EINDHOVEN]           89.1509     88.240      1.010      0.312     -83.800     262.102\n",
       "shipping_method[T.Ground]:facility[T.EINDHOVEN]         598.4286    199.977      2.992      0.003     206.472     990.385\n",
       "shipping_method[T.Next Day]:facility[T.EINDHOVEN]      -147.4310    113.635     -1.297      0.194    -370.157      75.295\n",
       "shipping_method[T.3-Day]:facility[T.HANOVER]           -132.5888     90.505     -1.465      0.143    -309.980      44.802\n",
       "shipping_method[T.Ground]:facility[T.HANOVER]           278.1232    205.385      1.354      0.176    -124.433     680.679\n",
       "shipping_method[T.Next Day]:facility[T.HANOVER]        -103.6172    121.597     -0.852      0.394    -341.948     134.714\n",
       "shipping_method[T.3-Day]:facility[T.MANCHESTER]        4.194e-11   3.22e-11      1.302      0.193   -2.12e-11    1.05e-10\n",
       "shipping_method[T.Ground]:facility[T.MANCHESTER]       -377.4726    273.006     -1.383      0.167    -912.567     157.622\n",
       "shipping_method[T.Next Day]:facility[T.MANCHESTER]      272.9321    253.648      1.076      0.282    -224.222     770.086\n",
       "shipping_method[T.3-Day]:facility[T.OXFORD]           -3.401e-13   2.82e-12     -0.120      0.904   -5.87e-12    5.19e-12\n",
       "shipping_method[T.Ground]:facility[T.OXFORD]          -1355.2885    282.720     -4.794      0.000   -1909.423    -801.154\n",
       "shipping_method[T.Next Day]:facility[T.OXFORD]         -487.3418    265.547     -1.835      0.066   -1007.817      33.134\n",
       "units_per_order                                        -793.2251    423.125     -1.875      0.061   -1622.555      36.105\n",
       "country[T.FRANCE]:units_per_order                       950.2411    425.199      2.235      0.025     116.846    1783.636\n",
       "country[T.GERMANY]:units_per_order                     1807.3754    869.165      2.079      0.038     103.801    3510.950\n",
       "country[T.NETHERLANDS]:units_per_order                  159.8525    415.392      0.385      0.700    -654.321     974.026\n",
       "country[T.SWEDEN]:units_per_order                       487.1493    329.398      1.479      0.139    -158.475    1132.774\n",
       "country[T.UNITED KINGDOM]:units_per_order               301.8068    215.124      1.403      0.161    -119.838     723.452\n",
       "units_per_order:facility[T.AUGSBURG]                   -931.2872    452.474     -2.058      0.040   -1818.142     -44.433\n",
       "units_per_order:facility[T.EINDHOVEN]                  -897.7618    450.182     -1.994      0.046   -1780.124     -15.400\n",
       "units_per_order:facility[T.HANOVER]                    -863.2259    453.576     -1.903      0.057   -1752.240      25.788\n",
       "units_per_order:facility[T.MANCHESTER]                  468.5979    269.932      1.736      0.083     -60.472     997.668\n",
       "units_per_order:facility[T.OXFORD]                      480.2107    270.863      1.773      0.076     -50.683    1011.105\n",
       "on_sale                                                 693.0553    189.708      3.653      0.000     321.226    1064.885\n",
       "country[T.FRANCE]:on_sale                              -574.0443    175.266     -3.275      0.001    -917.567    -230.522\n",
       "country[T.GERMANY]:on_sale                             -820.6086    343.799     -2.387      0.017   -1494.459    -146.759\n",
       "country[T.NETHERLANDS]:on_sale                         -631.6470    213.809     -2.954      0.003   -1050.715    -212.579\n",
       "country[T.SWEDEN]:on_sale                              2195.7057    230.935      9.508      0.000    1743.071    2648.341\n",
       "country[T.UNITED KINGDOM]:on_sale                      -862.2348    112.191     -7.685      0.000   -1082.130    -642.339\n",
       "shipping_method[T.3-Day]:on_sale                       -216.7283    102.281     -2.119      0.034    -417.200     -16.257\n",
       "shipping_method[T.Ground]:on_sale                      -165.5226     96.088     -1.723      0.085    -353.857      22.812\n",
       "shipping_method[T.Next Day]:on_sale                    -139.6814    106.154     -1.316      0.188    -347.745      68.383\n",
       "facility[T.AUGSBURG]:on_sale                            280.3010    182.551      1.535      0.125     -77.501     638.103\n",
       "facility[T.EINDHOVEN]:on_sale                           236.5427    179.099      1.321      0.187    -114.493     587.578\n",
       "facility[T.HANOVER]:on_sale                              48.4320    183.448      0.264      0.792    -311.129     407.993\n",
       "facility[T.MANCHESTER]:on_sale                          234.0157    118.166      1.980      0.048       2.408     465.623\n",
       "facility[T.OXFORD]:on_sale                              467.8083    119.873      3.903      0.000     232.856     702.761\n",
       "returned                                                134.8174    435.739      0.309      0.757    -719.237     988.872\n",
       "country[T.FRANCE]:returned                              -64.3867    434.197     -0.148      0.882    -915.418     786.645\n",
       "country[T.GERMANY]:returned                              -8.5201    428.220     -0.020      0.984    -847.836     830.795\n",
       "country[T.NETHERLANDS]:returned                        -444.9488    753.139     -0.591      0.555   -1921.110    1031.213\n",
       "country[T.SWEDEN]:returned                             -821.4635    464.655     -1.768      0.077   -1732.192      89.266\n",
       "country[T.UNITED KINGDOM]:returned                      -55.8602    429.334     -0.130      0.896    -897.360     785.640\n",
       "backorder                                              -680.4807    292.044     -2.330      0.020   -1252.891    -108.071\n",
       "country[T.FRANCE]:backorder                            -673.8364    289.016     -2.331      0.020   -1240.311    -107.362\n",
       "country[T.GERMANY]:backorder                            945.2845    546.491      1.730      0.084    -125.844    2016.413\n",
       "country[T.NETHERLANDS]:backorder                      -1768.9097    356.542     -4.961      0.000   -2467.737   -1070.082\n",
       "country[T.SWEDEN]:backorder                            1998.5273    358.868      5.569      0.000    1295.142    2701.912\n",
       "country[T.UNITED KINGDOM]:backorder                    1021.0889    183.525      5.564      0.000     661.377    1380.801\n",
       "shipping_method[T.3-Day]:backorder                      185.5185    150.301      1.234      0.217    -109.072     480.109\n",
       "shipping_method[T.Ground]:backorder                     245.4535    134.993      1.818      0.069     -19.135     510.041\n",
       "shipping_method[T.Next Day]:backorder                  -233.2923    150.438     -1.551      0.121    -528.153      61.568\n",
       "facility[T.AUGSBURG]:backorder                         -288.3487    290.150     -0.994      0.320    -857.047     280.349\n",
       "facility[T.EINDHOVEN]:backorder                        -537.6576    283.674     -1.895      0.058   -1093.663      18.347\n",
       "facility[T.HANOVER]:backorder                          -431.3446    291.361     -1.480      0.139   -1002.415     139.726\n",
       "facility[T.MANCHESTER]:backorder                        519.1165    190.972      2.718      0.007     144.809     893.424\n",
       "facility[T.OXFORD]:backorder                            731.5900    195.051      3.751      0.000     349.287    1113.893\n",
       "make_delay_minutes                                       -0.3957      0.064     -6.231      0.000      -0.520      -0.271\n",
       "country[T.FRANCE]:make_delay_minutes                     -0.6978      0.058    -11.957      0.000      -0.812      -0.583\n",
       "country[T.GERMANY]:make_delay_minutes                    -0.1174      0.080     -1.468      0.142      -0.274       0.039\n",
       "country[T.NETHERLANDS]:make_delay_minutes                -0.3084      0.142     -2.166      0.030      -0.587      -0.029\n",
       "country[T.SWEDEN]:make_delay_minutes                     -0.1882      0.057     -3.280      0.001      -0.301      -0.076\n",
       "country[T.UNITED KINGDOM]:make_delay_minutes              0.1772      0.048      3.705      0.000       0.083       0.271\n",
       "shipping_method[T.3-Day]:make_delay_minutes               0.0817      0.056      1.458      0.145      -0.028       0.192\n",
       "shipping_method[T.Ground]:make_delay_minutes              0.2048      0.055      3.749      0.000       0.098       0.312\n",
       "shipping_method[T.Next Day]:make_delay_minutes            0.3205      0.062      5.168      0.000       0.199       0.442\n",
       "facility[T.AUGSBURG]:make_delay_minutes                   0.3749      0.047      8.024      0.000       0.283       0.466\n",
       "facility[T.EINDHOVEN]:make_delay_minutes                  0.0245      0.044      0.554      0.580      -0.062       0.111\n",
       "facility[T.HANOVER]:make_delay_minutes                    0.2221      0.047      4.732      0.000       0.130       0.314\n",
       "facility[T.MANCHESTER]:make_delay_minutes                -0.1026      0.041     -2.524      0.012      -0.182      -0.023\n",
       "facility[T.OXFORD]:make_delay_minutes                    -0.2168      0.041     -5.245      0.000      -0.298      -0.136\n",
       "delivery_delay_minutes                                   -0.7957      0.028    -28.313      0.000      -0.851      -0.741\n",
       "country[T.FRANCE]:delivery_delay_minutes                 -0.3366      0.018    -19.198      0.000      -0.371      -0.302\n",
       "country[T.GERMANY]:delivery_delay_minutes                 0.1741      0.028      6.271      0.000       0.120       0.228\n",
       "country[T.NETHERLANDS]:delivery_delay_minutes             0.0083      0.096      0.086      0.931      -0.181       0.197\n",
       "country[T.SWEDEN]:delivery_delay_minutes                 -0.2665      0.030     -8.769      0.000      -0.326      -0.207\n",
       "country[T.UNITED KINGDOM]:delivery_delay_minutes          0.1222      0.030      4.117      0.000       0.064       0.180\n",
       "shipping_method[T.3-Day]:delivery_delay_minutes           0.0151      0.027      0.566      0.571      -0.037       0.067\n",
       "shipping_method[T.Ground]:delivery_delay_minutes          0.1707      0.026      6.687      0.000       0.121       0.221\n",
       "shipping_method[T.Next Day]:delivery_delay_minutes        0.4158      0.029     14.197      0.000       0.358       0.473\n",
       "facility[T.AUGSBURG]:delivery_delay_minutes              -0.0853      0.019     -4.477      0.000      -0.123      -0.048\n",
       "facility[T.EINDHOVEN]:delivery_delay_minutes             -0.1406      0.017     -8.469      0.000      -0.173      -0.108\n",
       "facility[T.HANOVER]:delivery_delay_minutes               -0.0971      0.019     -5.175      0.000      -0.134      -0.060\n",
       "facility[T.MANCHESTER]:delivery_delay_minutes            -0.0839      0.022     -3.772      0.000      -0.128      -0.040\n",
       "facility[T.OXFORD]:delivery_delay_minutes                -0.0521      0.023     -2.294      0.022      -0.097      -0.008\n",
       "Bad_Plan                                                200.8826    627.025      0.320      0.749   -1028.093    1429.858\n",
       "country[T.FRANCE]:Bad_Plan                            -1126.9091    641.425     -1.757      0.079   -2384.110     130.292\n",
       "country[T.GERMANY]:Bad_Plan                             431.7889   1231.098      0.351      0.726   -1981.178    2844.756\n",
       "country[T.NETHERLANDS]:Bad_Plan                         760.8957    684.350      1.112      0.266    -580.438    2102.229\n",
       "country[T.SWEDEN]:Bad_Plan                             1281.2520    669.100      1.915      0.056     -30.191    2592.695\n",
       "country[T.UNITED KINGDOM]:Bad_Plan                     -422.7566    387.123     -1.092      0.275   -1181.522     336.009\n",
       "shipping_method[T.3-Day]:Bad_Plan                      1128.0392    227.667      4.955      0.000     681.809    1574.270\n",
       "shipping_method[T.Ground]:Bad_Plan                     1437.3004    215.688      6.664      0.000    1014.549    1860.052\n",
       "shipping_method[T.Next Day]:Bad_Plan                    841.0437    292.302      2.877      0.004     268.128    1413.959\n",
       "facility[T.AUGSBURG]:Bad_Plan                           280.4217    645.680      0.434      0.664    -985.119    1545.962\n",
       "facility[T.EINDHOVEN]:Bad_Plan                         -324.1770    640.583     -0.506      0.613   -1579.728     931.374\n",
       "facility[T.HANOVER]:Bad_Plan                           -247.8441    650.326     -0.381      0.703   -1522.490    1026.802\n",
       "facility[T.MANCHESTER]:Bad_Plan                         525.1084    413.554      1.270      0.204    -285.461    1335.678\n",
       "facility[T.OXFORD]:Bad_Plan                            1094.2827    427.278      2.561      0.010     256.812    1931.753\n",
       "source_delay_minutes                                     -0.0244      0.076     -0.320      0.749      -0.174       0.125\n",
       "country[T.FRANCE]:source_delay_minutes                   -0.2616      0.077     -3.391      0.001      -0.413      -0.110\n",
       "country[T.GERMANY]:source_delay_minutes                  -0.0035      0.143     -0.025      0.980      -0.284       0.277\n",
       "country[T.NETHERLANDS]:source_delay_minutes              -0.0007      0.077     -0.009      0.993      -0.152       0.150\n",
       "country[T.SWEDEN]:source_delay_minutes                   -0.0850      0.060     -1.423      0.155      -0.202       0.032\n",
       "country[T.UNITED KINGDOM]:source_delay_minutes            0.2447      0.039      6.233      0.000       0.168       0.322\n",
       "shipping_method[T.3-Day]:source_delay_minutes            -0.0750      0.035     -2.153      0.031      -0.143      -0.007\n",
       "shipping_method[T.Ground]:source_delay_minutes            0.0011      0.033      0.032      0.975      -0.065       0.067\n",
       "shipping_method[T.Next Day]:source_delay_minutes         -0.3833      0.040     -9.551      0.000      -0.462      -0.305\n",
       "facility[T.AUGSBURG]:source_delay_minutes                 0.0356      0.075      0.473      0.636      -0.112       0.183\n",
       "facility[T.EINDHOVEN]:source_delay_minutes               -0.0133      0.075     -0.179      0.858      -0.159       0.133\n",
       "facility[T.HANOVER]:source_delay_minutes                  0.0560      0.075      0.742      0.458      -0.092       0.204\n",
       "facility[T.MANCHESTER]:source_delay_minutes               0.1521      0.047      3.261      0.001       0.061       0.243\n",
       "facility[T.OXFORD]:source_delay_minutes                   0.0069      0.047      0.145      0.885      -0.086       0.100\n",
       "units_per_order:on_sale                                 -17.8536     36.859     -0.484      0.628     -90.097      54.390\n",
       "units_per_order:returned                                110.6760     53.953      2.051      0.040       4.928     216.424\n",
       "units_per_order:backorder                                 3.5519     36.424      0.098      0.922     -67.839      74.943\n",
       "units_per_order:source_delay_minutes                     -0.1494      0.011    -13.981      0.000      -0.170      -0.128\n",
       "units_per_order:delivery_delay_minutes                    0.0159      0.010      1.552      0.121      -0.004       0.036\n",
       "on_sale:returned                                         61.7253     44.713      1.380      0.167     -25.912     149.363\n",
       "on_sale:backorder                                        66.1772     57.700      1.147      0.251     -46.916     179.270\n",
       "on_sale:make_delay_minutes                               -0.0161      0.014     -1.147      0.251      -0.044       0.011\n",
       "on_sale:source_delay_minutes                             -0.0040      0.010     -0.391      0.696      -0.024       0.016\n",
       "on_sale:delivery_delay_minutes                            0.0186      0.007      2.707      0.007       0.005       0.032\n",
       "returned:backorder                                      255.6544     81.697      3.129      0.002      95.527     415.781\n",
       "returned:make_delay_minutes                              -0.0515      0.020     -2.625      0.009      -0.090      -0.013\n",
       "returned:source_delay_minutes                            -0.0613      0.017     -3.616      0.000      -0.095      -0.028\n",
       "returned:delivery_delay_minutes                          -0.0623      0.009     -7.146      0.000      -0.079      -0.045\n",
       "returned:Bad_Plan                                      -111.8479    144.537     -0.774      0.439    -395.143     171.447\n",
       "backorder:make_delay_minutes                             -0.0013      0.024     -0.056      0.956      -0.049       0.046\n",
       "backorder:source_delay_minutes                            0.3201      0.011     28.193      0.000       0.298       0.342\n",
       "backorder:delivery_delay_minutes                          0.0946      0.012      7.773      0.000       0.071       0.119\n",
       "backorder:Bad_Plan                                     -596.2163    157.955     -3.775      0.000    -905.809    -286.623\n",
       "make_delay_minutes:source_delay_minutes               -2.801e-05   3.71e-06     -7.551      0.000   -3.53e-05   -2.07e-05\n",
       "make_delay_minutes:delivery_delay_minutes             -6.028e-05   2.73e-06    -22.061      0.000   -6.56e-05   -5.49e-05\n",
       "make_delay_minutes:Bad_Plan                               0.1777      0.049      3.659      0.000       0.083       0.273\n",
       "source_delay_minutes:Bad_Plan                             0.2064      0.047      4.394      0.000       0.114       0.299\n",
       "delivery_delay_minutes:Bad_Plan                           0.5742      0.061      9.412      0.000       0.455       0.694\n",
       "==============================================================================\n",
       "Omnibus:                     6465.510   Durbin-Watson:                   1.987\n",
       "Prob(Omnibus):                  0.000   Jarque-Bera (JB):            34346.454\n",
       "Skew:                          -0.515   Prob(JB):                         0.00\n",
       "Kurtosis:                       6.928   Cond. No.                     1.11e+16\n",
       "==============================================================================\n",
       "\n",
       "Warnings:\n",
       "[1] Standard Errors assume that the covariance matrix of the errors is correctly specified.\n",
       "[2] The smallest eigenvalue is 9.39e-15. This might indicate that there are\n",
       "strong multicollinearity problems or that the design matrix is singular.\n",
       "\"\"\""
      ]
     },
     "execution_count": 54,
     "metadata": {},
     "output_type": "execute_result"
    }
   ],
   "source": [
    "result.summary()"
   ]
  },
  {
   "cell_type": "code",
   "execution_count": 55,
   "metadata": {},
   "outputs": [
    {
     "data": {
      "text/plain": [
       "106"
      ]
     },
     "execution_count": 55,
     "metadata": {},
     "output_type": "execute_result"
    }
   ],
   "source": [
    "significant_factors = result.params[(result.tvalues<-1.96)].index\n",
    "significant_factors= significant_factors.append(result.params[(result.tvalues>1.96)].index)\n",
    "len(significant_factors)"
   ]
  },
  {
   "cell_type": "code",
   "execution_count": 56,
   "metadata": {},
   "outputs": [
    {
     "data": {
      "text/plain": [
       "88"
      ]
     },
     "execution_count": 56,
     "metadata": {},
     "output_type": "execute_result"
    }
   ],
   "source": [
    "insignificant_factors = list(set(result.params.index) - set(significant_factors))\n",
    "len(insignificant_factors)"
   ]
  },
  {
   "cell_type": "code",
   "execution_count": 57,
   "metadata": {},
   "outputs": [
    {
     "data": {
      "text/plain": [
       "Index(['country[T.GERMANY]', 'country[T.SWEDEN]', 'shipping_method[T.3-Day]',\n",
       "       'facility[T.MANCHESTER]', 'facility[T.OXFORD]',\n",
       "       'country[T.FRANCE]:shipping_method[T.3-Day]',\n",
       "       'country[T.GERMANY]:shipping_method[T.3-Day]',\n",
       "       'country[T.SWEDEN]:shipping_method[T.3-Day]',\n",
       "       'country[T.UNITED KINGDOM]:shipping_method[T.3-Day]',\n",
       "       'country[T.GERMANY]:shipping_method[T.Ground]',\n",
       "       ...\n",
       "       'country[T.UNITED KINGDOM]:source_delay_minutes',\n",
       "       'facility[T.MANCHESTER]:source_delay_minutes',\n",
       "       'units_per_order:returned', 'on_sale:delivery_delay_minutes',\n",
       "       'returned:backorder', 'backorder:source_delay_minutes',\n",
       "       'backorder:delivery_delay_minutes', 'make_delay_minutes:Bad_Plan',\n",
       "       'source_delay_minutes:Bad_Plan', 'delivery_delay_minutes:Bad_Plan'],\n",
       "      dtype='object', length=106)"
      ]
     },
     "execution_count": 57,
     "metadata": {},
     "output_type": "execute_result"
    }
   ],
   "source": [
    "significant_factors"
   ]
  },
  {
   "cell_type": "code",
   "execution_count": 58,
   "metadata": {},
   "outputs": [
    {
     "data": {
      "text/plain": [
       "delivery_delay_minutes                                28.313435\n",
       "backorder:source_delay_minutes                        28.193238\n",
       "make_delay_minutes:delivery_delay_minutes             22.061332\n",
       "country[T.FRANCE]:delivery_delay_minutes              19.197849\n",
       "shipping_method[T.Next Day]:delivery_delay_minutes    14.196831\n",
       "units_per_order:source_delay_minutes                  13.980866\n",
       "country[T.FRANCE]:make_delay_minutes                  11.957268\n",
       "country[T.SWEDEN]:shipping_method[T.Ground]           10.989377\n",
       "country[T.SWEDEN]                                     10.989377\n",
       "shipping_method[T.Next Day]:source_delay_minutes       9.550980\n",
       "country[T.SWEDEN]:on_sale                              9.507899\n",
       "delivery_delay_minutes:Bad_Plan                        9.411845\n",
       "country[T.SWEDEN]:delivery_delay_minutes               8.768673\n",
       "facility[T.EINDHOVEN]:delivery_delay_minutes           8.469219\n",
       "facility[T.AUGSBURG]:make_delay_minutes                8.024433\n",
       "dtype: float64"
      ]
     },
     "execution_count": 58,
     "metadata": {},
     "output_type": "execute_result"
    }
   ],
   "source": [
    "tvalues = result.tvalues\n",
    "tvalues = abs(tvalues)\n",
    "tvalues.sort_values(ascending=False)[:15]"
   ]
  },
  {
   "cell_type": "markdown",
   "metadata": {},
   "source": [
    "<b>\n",
    "These top significant factors clearly substantiate our conclusions from the preliminary analysis. \n",
    "\n",
    "1. Delivery delay and make delay are associated with each other ( both of them being consecutive steps) and together act as a significant cause for the failure in delivery.\n",
    "2. Backorder and the source delay are directly related. They together play an important role in failure. Backorder is also highly associated with Bad Planning.\n",
    "3. For a product on sale, when the shipping method is Ground, with Next-Day or a 2-Day Delivery, the delay is usually high.\n",
    "</b>"
   ]
  },
  {
   "cell_type": "markdown",
   "metadata": {},
   "source": [
    "### Classification - Decision Tree and Logistic Classification"
   ]
  },
  {
   "cell_type": "markdown",
   "metadata": {},
   "source": [
    "In this scenario, we would like to develop a model to check the prediction of delay , just based on order attributes, without considering the time delays. This might aid in developing better recommendations/ rule for planning the deliveries.\n",
    "\n",
    "Therefore, a supervised learning - classification approach was used to develop a model."
   ]
  },
  {
   "cell_type": "code",
   "execution_count": 59,
   "metadata": {},
   "outputs": [],
   "source": [
    "#### Machine Learning\n",
    "df_classification=df_new.drop(['order_id','datetime_ordered','datetime_sourced',\n",
    "         'datetime_product_ready','datetime_planned',\n",
    "         'datetime_delivered', 'units_per_order',\n",
    "        'deadline_source','datetime_product_ready','datetime_planned',\n",
    "         'datetime_delivered','deadline_source','deadline_make',\n",
    "        'actual_sourced', 'actual_make', 'actual_deliver',\n",
    "        'source_delay', 'make_delay', 'delivery_delay', 'source_delay_flag',\n",
    "       'make_delay_flag', 'delivery_delay_flag','Delay_Days','final_flag','deadline_deliver'],axis=1)\n"
   ]
  },
  {
   "cell_type": "code",
   "execution_count": 60,
   "metadata": {},
   "outputs": [
    {
     "data": {
      "text/plain": [
       "Index(['country', 'shipping_method', 'facility', 'product_category', 'on_sale',\n",
       "       'transit_days', 'returned', 'backorder', 'delivered_to_plan', 'units>6',\n",
       "       'Bad_Plan', 'make_delay_minutes', 'source_delay_minutes',\n",
       "       'delivery_delay_minutes', 'Total_delay_minutes'],\n",
       "      dtype='object')"
      ]
     },
     "execution_count": 60,
     "metadata": {},
     "output_type": "execute_result"
    }
   ],
   "source": [
    "df_classification.columns"
   ]
  },
  {
   "cell_type": "code",
   "execution_count": 61,
   "metadata": {},
   "outputs": [
    {
     "data": {
      "text/plain": [
       "110114"
      ]
     },
     "execution_count": 61,
     "metadata": {},
     "output_type": "execute_result"
    }
   ],
   "source": [
    "len(df_classification)"
   ]
  },
  {
   "cell_type": "code",
   "execution_count": 62,
   "metadata": {},
   "outputs": [
    {
     "name": "stdout",
     "output_type": "stream",
     "text": [
      "Number of succesful cases 98523\n",
      "Number of failure cases 11591\n"
     ]
    },
    {
     "data": {
      "text/html": [
       "<div>\n",
       "<style scoped>\n",
       "    .dataframe tbody tr th:only-of-type {\n",
       "        vertical-align: middle;\n",
       "    }\n",
       "\n",
       "    .dataframe tbody tr th {\n",
       "        vertical-align: top;\n",
       "    }\n",
       "\n",
       "    .dataframe thead th {\n",
       "        text-align: right;\n",
       "    }\n",
       "</style>\n",
       "<table border=\"1\" class=\"dataframe\">\n",
       "  <thead>\n",
       "    <tr style=\"text-align: right;\">\n",
       "      <th></th>\n",
       "      <th>country</th>\n",
       "      <th>shipping_method</th>\n",
       "      <th>facility</th>\n",
       "      <th>product_category</th>\n",
       "      <th>on_sale</th>\n",
       "      <th>transit_days</th>\n",
       "      <th>returned</th>\n",
       "      <th>backorder</th>\n",
       "      <th>delivered_to_plan</th>\n",
       "      <th>units&gt;6</th>\n",
       "      <th>Bad_Plan</th>\n",
       "      <th>make_delay_minutes</th>\n",
       "      <th>source_delay_minutes</th>\n",
       "      <th>delivery_delay_minutes</th>\n",
       "      <th>Total_delay_minutes</th>\n",
       "    </tr>\n",
       "  </thead>\n",
       "  <tbody>\n",
       "    <tr>\n",
       "      <th>42</th>\n",
       "      <td>FRANCE</td>\n",
       "      <td>Ground</td>\n",
       "      <td>ANTWERP</td>\n",
       "      <td>JACKETS &amp; VESTS</td>\n",
       "      <td>1</td>\n",
       "      <td>3</td>\n",
       "      <td>0</td>\n",
       "      <td>0</td>\n",
       "      <td>FAIL</td>\n",
       "      <td>0</td>\n",
       "      <td>0</td>\n",
       "      <td>360.600000</td>\n",
       "      <td>-17.983333</td>\n",
       "      <td>1696.783333</td>\n",
       "      <td>1440.0</td>\n",
       "    </tr>\n",
       "    <tr>\n",
       "      <th>44</th>\n",
       "      <td>FRANCE</td>\n",
       "      <td>Ground</td>\n",
       "      <td>ANTWERP</td>\n",
       "      <td>JACKETS &amp; VESTS</td>\n",
       "      <td>0</td>\n",
       "      <td>4</td>\n",
       "      <td>0</td>\n",
       "      <td>0</td>\n",
       "      <td>FAIL</td>\n",
       "      <td>0</td>\n",
       "      <td>0</td>\n",
       "      <td>299.733333</td>\n",
       "      <td>-77.716667</td>\n",
       "      <td>1757.016667</td>\n",
       "      <td>1440.0</td>\n",
       "    </tr>\n",
       "    <tr>\n",
       "      <th>50</th>\n",
       "      <td>GERMANY</td>\n",
       "      <td>3-Day</td>\n",
       "      <td>AUGSBURG</td>\n",
       "      <td>JACKETS &amp; VESTS</td>\n",
       "      <td>1</td>\n",
       "      <td>3</td>\n",
       "      <td>0</td>\n",
       "      <td>0</td>\n",
       "      <td>FAIL</td>\n",
       "      <td>0</td>\n",
       "      <td>1</td>\n",
       "      <td>2819.550000</td>\n",
       "      <td>2717.616667</td>\n",
       "      <td>222.666667</td>\n",
       "      <td>1440.0</td>\n",
       "    </tr>\n",
       "    <tr>\n",
       "      <th>56</th>\n",
       "      <td>GERMANY</td>\n",
       "      <td>Ground</td>\n",
       "      <td>AUGSBURG</td>\n",
       "      <td>JACKETS &amp; VESTS</td>\n",
       "      <td>1</td>\n",
       "      <td>2</td>\n",
       "      <td>0</td>\n",
       "      <td>0</td>\n",
       "      <td>FAIL</td>\n",
       "      <td>0</td>\n",
       "      <td>1</td>\n",
       "      <td>2809.733333</td>\n",
       "      <td>2787.383333</td>\n",
       "      <td>222.783333</td>\n",
       "      <td>1440.0</td>\n",
       "    </tr>\n",
       "    <tr>\n",
       "      <th>57</th>\n",
       "      <td>GERMANY</td>\n",
       "      <td>3-Day</td>\n",
       "      <td>AUGSBURG</td>\n",
       "      <td>JACKETS &amp; VESTS</td>\n",
       "      <td>0</td>\n",
       "      <td>3</td>\n",
       "      <td>1</td>\n",
       "      <td>0</td>\n",
       "      <td>FAIL</td>\n",
       "      <td>0</td>\n",
       "      <td>0</td>\n",
       "      <td>2809.633333</td>\n",
       "      <td>2786.500000</td>\n",
       "      <td>-5537.100000</td>\n",
       "      <td>7200.0</td>\n",
       "    </tr>\n",
       "  </tbody>\n",
       "</table>\n",
       "</div>"
      ],
      "text/plain": [
       "    country shipping_method  facility product_category  on_sale  transit_days  \\\n",
       "42   FRANCE          Ground   ANTWERP  JACKETS & VESTS        1             3   \n",
       "44   FRANCE          Ground   ANTWERP  JACKETS & VESTS        0             4   \n",
       "50  GERMANY           3-Day  AUGSBURG  JACKETS & VESTS        1             3   \n",
       "56  GERMANY          Ground  AUGSBURG  JACKETS & VESTS        1             2   \n",
       "57  GERMANY           3-Day  AUGSBURG  JACKETS & VESTS        0             3   \n",
       "\n",
       "    returned  backorder delivered_to_plan  units>6  Bad_Plan  \\\n",
       "42         0          0              FAIL        0         0   \n",
       "44         0          0              FAIL        0         0   \n",
       "50         0          0              FAIL        0         1   \n",
       "56         0          0              FAIL        0         1   \n",
       "57         1          0              FAIL        0         0   \n",
       "\n",
       "    make_delay_minutes  source_delay_minutes  delivery_delay_minutes  \\\n",
       "42          360.600000            -17.983333             1696.783333   \n",
       "44          299.733333            -77.716667             1757.016667   \n",
       "50         2819.550000           2717.616667              222.666667   \n",
       "56         2809.733333           2787.383333              222.783333   \n",
       "57         2809.633333           2786.500000            -5537.100000   \n",
       "\n",
       "    Total_delay_minutes  \n",
       "42               1440.0  \n",
       "44               1440.0  \n",
       "50               1440.0  \n",
       "56               1440.0  \n",
       "57               7200.0  "
      ]
     },
     "execution_count": 62,
     "metadata": {},
     "output_type": "execute_result"
    }
   ],
   "source": [
    "df_1 = df[df.delivered_to_plan == 'PASS']\n",
    "df_2 = df[df.delivered_to_plan == 'FAIL']\n",
    "print('Number of succesful cases',len(df_1))\n",
    "print('Number of failure cases',len(df_2))\n",
    "\n",
    "## Imbalanced Data - subsampling\n",
    "df_equal = pd.concat([df_2,df_1.sample(len(df_2))])\n",
    "df_equal=df_equal[df_classification.columns]\n",
    "df_equal.head()"
   ]
  },
  {
   "cell_type": "code",
   "execution_count": 63,
   "metadata": {},
   "outputs": [
    {
     "data": {
      "text/plain": [
       "country                    object\n",
       "shipping_method            object\n",
       "facility                   object\n",
       "product_category           object\n",
       "on_sale                     int64\n",
       "transit_days                int64\n",
       "returned                    int64\n",
       "backorder                   int64\n",
       "delivered_to_plan          object\n",
       "units>6                     int64\n",
       "Bad_Plan                    int64\n",
       "make_delay_minutes        float64\n",
       "source_delay_minutes      float64\n",
       "delivery_delay_minutes    float64\n",
       "Total_delay_minutes       float64\n",
       "dtype: object"
      ]
     },
     "execution_count": 63,
     "metadata": {},
     "output_type": "execute_result"
    }
   ],
   "source": [
    "df_classification.dtypes"
   ]
  },
  {
   "cell_type": "code",
   "execution_count": 64,
   "metadata": {},
   "outputs": [
    {
     "data": {
      "text/html": [
       "<div>\n",
       "<style scoped>\n",
       "    .dataframe tbody tr th:only-of-type {\n",
       "        vertical-align: middle;\n",
       "    }\n",
       "\n",
       "    .dataframe tbody tr th {\n",
       "        vertical-align: top;\n",
       "    }\n",
       "\n",
       "    .dataframe thead th {\n",
       "        text-align: right;\n",
       "    }\n",
       "</style>\n",
       "<table border=\"1\" class=\"dataframe\">\n",
       "  <thead>\n",
       "    <tr style=\"text-align: right;\">\n",
       "      <th></th>\n",
       "      <th>on_sale</th>\n",
       "      <th>transit_days</th>\n",
       "      <th>returned</th>\n",
       "      <th>backorder</th>\n",
       "      <th>delivered_to_plan</th>\n",
       "      <th>units&gt;6</th>\n",
       "      <th>Bad_Plan</th>\n",
       "      <th>make_delay_minutes</th>\n",
       "      <th>source_delay_minutes</th>\n",
       "      <th>delivery_delay_minutes</th>\n",
       "      <th>...</th>\n",
       "      <th>shipping_method_Next Day</th>\n",
       "      <th>facility_ANTWERP</th>\n",
       "      <th>facility_AUGSBURG</th>\n",
       "      <th>facility_EINDHOVEN</th>\n",
       "      <th>facility_HANOVER</th>\n",
       "      <th>facility_MANCHESTER</th>\n",
       "      <th>facility_OXFORD</th>\n",
       "      <th>product_category_ACCESSORIES</th>\n",
       "      <th>product_category_JACKETS &amp; VESTS</th>\n",
       "      <th>product_category_TOPS</th>\n",
       "    </tr>\n",
       "  </thead>\n",
       "  <tbody>\n",
       "    <tr>\n",
       "      <th>42</th>\n",
       "      <td>1</td>\n",
       "      <td>3</td>\n",
       "      <td>0</td>\n",
       "      <td>0</td>\n",
       "      <td>FAIL</td>\n",
       "      <td>0</td>\n",
       "      <td>0</td>\n",
       "      <td>360.600000</td>\n",
       "      <td>-17.983333</td>\n",
       "      <td>1696.783333</td>\n",
       "      <td>...</td>\n",
       "      <td>0</td>\n",
       "      <td>1</td>\n",
       "      <td>0</td>\n",
       "      <td>0</td>\n",
       "      <td>0</td>\n",
       "      <td>0</td>\n",
       "      <td>0</td>\n",
       "      <td>0</td>\n",
       "      <td>1</td>\n",
       "      <td>0</td>\n",
       "    </tr>\n",
       "    <tr>\n",
       "      <th>44</th>\n",
       "      <td>0</td>\n",
       "      <td>4</td>\n",
       "      <td>0</td>\n",
       "      <td>0</td>\n",
       "      <td>FAIL</td>\n",
       "      <td>0</td>\n",
       "      <td>0</td>\n",
       "      <td>299.733333</td>\n",
       "      <td>-77.716667</td>\n",
       "      <td>1757.016667</td>\n",
       "      <td>...</td>\n",
       "      <td>0</td>\n",
       "      <td>1</td>\n",
       "      <td>0</td>\n",
       "      <td>0</td>\n",
       "      <td>0</td>\n",
       "      <td>0</td>\n",
       "      <td>0</td>\n",
       "      <td>0</td>\n",
       "      <td>1</td>\n",
       "      <td>0</td>\n",
       "    </tr>\n",
       "    <tr>\n",
       "      <th>50</th>\n",
       "      <td>1</td>\n",
       "      <td>3</td>\n",
       "      <td>0</td>\n",
       "      <td>0</td>\n",
       "      <td>FAIL</td>\n",
       "      <td>0</td>\n",
       "      <td>1</td>\n",
       "      <td>2819.550000</td>\n",
       "      <td>2717.616667</td>\n",
       "      <td>222.666667</td>\n",
       "      <td>...</td>\n",
       "      <td>0</td>\n",
       "      <td>0</td>\n",
       "      <td>1</td>\n",
       "      <td>0</td>\n",
       "      <td>0</td>\n",
       "      <td>0</td>\n",
       "      <td>0</td>\n",
       "      <td>0</td>\n",
       "      <td>1</td>\n",
       "      <td>0</td>\n",
       "    </tr>\n",
       "    <tr>\n",
       "      <th>56</th>\n",
       "      <td>1</td>\n",
       "      <td>2</td>\n",
       "      <td>0</td>\n",
       "      <td>0</td>\n",
       "      <td>FAIL</td>\n",
       "      <td>0</td>\n",
       "      <td>1</td>\n",
       "      <td>2809.733333</td>\n",
       "      <td>2787.383333</td>\n",
       "      <td>222.783333</td>\n",
       "      <td>...</td>\n",
       "      <td>0</td>\n",
       "      <td>0</td>\n",
       "      <td>1</td>\n",
       "      <td>0</td>\n",
       "      <td>0</td>\n",
       "      <td>0</td>\n",
       "      <td>0</td>\n",
       "      <td>0</td>\n",
       "      <td>1</td>\n",
       "      <td>0</td>\n",
       "    </tr>\n",
       "    <tr>\n",
       "      <th>57</th>\n",
       "      <td>0</td>\n",
       "      <td>3</td>\n",
       "      <td>1</td>\n",
       "      <td>0</td>\n",
       "      <td>FAIL</td>\n",
       "      <td>0</td>\n",
       "      <td>0</td>\n",
       "      <td>2809.633333</td>\n",
       "      <td>2786.500000</td>\n",
       "      <td>-5537.100000</td>\n",
       "      <td>...</td>\n",
       "      <td>0</td>\n",
       "      <td>0</td>\n",
       "      <td>1</td>\n",
       "      <td>0</td>\n",
       "      <td>0</td>\n",
       "      <td>0</td>\n",
       "      <td>0</td>\n",
       "      <td>0</td>\n",
       "      <td>1</td>\n",
       "      <td>0</td>\n",
       "    </tr>\n",
       "  </tbody>\n",
       "</table>\n",
       "<p>5 rows × 30 columns</p>\n",
       "</div>"
      ],
      "text/plain": [
       "    on_sale  transit_days  returned  backorder delivered_to_plan  units>6  \\\n",
       "42        1             3         0          0              FAIL        0   \n",
       "44        0             4         0          0              FAIL        0   \n",
       "50        1             3         0          0              FAIL        0   \n",
       "56        1             2         0          0              FAIL        0   \n",
       "57        0             3         1          0              FAIL        0   \n",
       "\n",
       "    Bad_Plan  make_delay_minutes  source_delay_minutes  \\\n",
       "42         0          360.600000            -17.983333   \n",
       "44         0          299.733333            -77.716667   \n",
       "50         1         2819.550000           2717.616667   \n",
       "56         1         2809.733333           2787.383333   \n",
       "57         0         2809.633333           2786.500000   \n",
       "\n",
       "    delivery_delay_minutes          ...            shipping_method_Next Day  \\\n",
       "42             1696.783333          ...                                   0   \n",
       "44             1757.016667          ...                                   0   \n",
       "50              222.666667          ...                                   0   \n",
       "56              222.783333          ...                                   0   \n",
       "57            -5537.100000          ...                                   0   \n",
       "\n",
       "    facility_ANTWERP  facility_AUGSBURG  facility_EINDHOVEN  facility_HANOVER  \\\n",
       "42                 1                  0                   0                 0   \n",
       "44                 1                  0                   0                 0   \n",
       "50                 0                  1                   0                 0   \n",
       "56                 0                  1                   0                 0   \n",
       "57                 0                  1                   0                 0   \n",
       "\n",
       "    facility_MANCHESTER  facility_OXFORD  product_category_ACCESSORIES  \\\n",
       "42                    0                0                             0   \n",
       "44                    0                0                             0   \n",
       "50                    0                0                             0   \n",
       "56                    0                0                             0   \n",
       "57                    0                0                             0   \n",
       "\n",
       "    product_category_JACKETS & VESTS  product_category_TOPS  \n",
       "42                                 1                      0  \n",
       "44                                 1                      0  \n",
       "50                                 1                      0  \n",
       "56                                 1                      0  \n",
       "57                                 1                      0  \n",
       "\n",
       "[5 rows x 30 columns]"
      ]
     },
     "execution_count": 64,
     "metadata": {},
     "output_type": "execute_result"
    }
   ],
   "source": [
    "df_equal = pd.get_dummies(df_equal, columns= ['country','shipping_method',\n",
    "                                  'facility','product_category'])\n",
    "df_equal.head()"
   ]
  },
  {
   "cell_type": "code",
   "execution_count": 65,
   "metadata": {},
   "outputs": [
    {
     "data": {
      "text/plain": [
       "23182"
      ]
     },
     "execution_count": 65,
     "metadata": {},
     "output_type": "execute_result"
    }
   ],
   "source": [
    "len(df_equal)"
   ]
  },
  {
   "cell_type": "markdown",
   "metadata": {},
   "source": [
    "### Model Selection and Model Tuning"
   ]
  },
  {
   "cell_type": "code",
   "execution_count": 1,
   "metadata": {},
   "outputs": [],
   "source": [
    "from sklearn.tree import DecisionTreeClassifier\n",
    "from sklearn.metrics import accuracy_score"
   ]
  },
  {
   "cell_type": "code",
   "execution_count": 67,
   "metadata": {},
   "outputs": [
    {
     "data": {
      "text/plain": [
       "Index(['on_sale', 'transit_days', 'returned', 'backorder', 'delivered_to_plan',\n",
       "       'units>6', 'Bad_Plan', 'make_delay_minutes', 'source_delay_minutes',\n",
       "       'delivery_delay_minutes', 'Total_delay_minutes', 'country_BELGIUM',\n",
       "       'country_FRANCE', 'country_GERMANY', 'country_NETHERLANDS',\n",
       "       'country_SWEDEN', 'country_UNITED KINGDOM', 'shipping_method_2-Day',\n",
       "       'shipping_method_3-Day', 'shipping_method_Ground',\n",
       "       'shipping_method_Next Day', 'facility_ANTWERP', 'facility_AUGSBURG',\n",
       "       'facility_EINDHOVEN', 'facility_HANOVER', 'facility_MANCHESTER',\n",
       "       'facility_OXFORD', 'product_category_ACCESSORIES',\n",
       "       'product_category_JACKETS & VESTS', 'product_category_TOPS'],\n",
       "      dtype='object')"
      ]
     },
     "execution_count": 67,
     "metadata": {},
     "output_type": "execute_result"
    }
   ],
   "source": [
    "df_equal.columns"
   ]
  },
  {
   "cell_type": "code",
   "execution_count": 68,
   "metadata": {},
   "outputs": [
    {
     "data": {
      "text/plain": [
       "array(['FAIL', 'PASS'], dtype=object)"
      ]
     },
     "execution_count": 68,
     "metadata": {},
     "output_type": "execute_result"
    }
   ],
   "source": [
    "y = df_equal.delivered_to_plan\n",
    "y.unique()"
   ]
  },
  {
   "cell_type": "code",
   "execution_count": 69,
   "metadata": {},
   "outputs": [],
   "source": [
    "del df_equal['delivered_to_plan']"
   ]
  },
  {
   "cell_type": "code",
   "execution_count": 70,
   "metadata": {},
   "outputs": [],
   "source": [
    "y_1=[]\n",
    "for i in range(0,len(y)):\n",
    "    if y.iloc[i] == 'PASS':\n",
    "        y_1.append(1)\n",
    "    else:\n",
    "        y_1.append(0)"
   ]
  },
  {
   "cell_type": "code",
   "execution_count": 71,
   "metadata": {},
   "outputs": [],
   "source": [
    "y = pd.Series(y_1)"
   ]
  },
  {
   "cell_type": "markdown",
   "metadata": {},
   "source": [
    "When the time lag is used, the accuracy is obviously very high. But we are interested in finding the dependency and the reasons behind lag, so we are ignoring the time lags in our model"
   ]
  },
  {
   "cell_type": "code",
   "execution_count": 72,
   "metadata": {},
   "outputs": [],
   "source": [
    "df_equal.drop(['make_delay_minutes', 'source_delay_minutes',\n",
    "       'delivery_delay_minutes', 'Total_delay_minutes'],axis=1,inplace=True)\n"
   ]
  },
  {
   "cell_type": "code",
   "execution_count": 73,
   "metadata": {},
   "outputs": [
    {
     "data": {
      "text/html": [
       "<div>\n",
       "<style scoped>\n",
       "    .dataframe tbody tr th:only-of-type {\n",
       "        vertical-align: middle;\n",
       "    }\n",
       "\n",
       "    .dataframe tbody tr th {\n",
       "        vertical-align: top;\n",
       "    }\n",
       "\n",
       "    .dataframe thead th {\n",
       "        text-align: right;\n",
       "    }\n",
       "</style>\n",
       "<table border=\"1\" class=\"dataframe\">\n",
       "  <thead>\n",
       "    <tr style=\"text-align: right;\">\n",
       "      <th></th>\n",
       "      <th>on_sale</th>\n",
       "      <th>transit_days</th>\n",
       "      <th>returned</th>\n",
       "      <th>backorder</th>\n",
       "      <th>units&gt;6</th>\n",
       "      <th>country_BELGIUM</th>\n",
       "      <th>country_FRANCE</th>\n",
       "      <th>country_GERMANY</th>\n",
       "      <th>country_NETHERLANDS</th>\n",
       "      <th>country_SWEDEN</th>\n",
       "      <th>...</th>\n",
       "      <th>shipping_method_Next Day</th>\n",
       "      <th>facility_ANTWERP</th>\n",
       "      <th>facility_AUGSBURG</th>\n",
       "      <th>facility_EINDHOVEN</th>\n",
       "      <th>facility_HANOVER</th>\n",
       "      <th>facility_MANCHESTER</th>\n",
       "      <th>facility_OXFORD</th>\n",
       "      <th>product_category_ACCESSORIES</th>\n",
       "      <th>product_category_JACKETS &amp; VESTS</th>\n",
       "      <th>product_category_TOPS</th>\n",
       "    </tr>\n",
       "  </thead>\n",
       "  <tbody>\n",
       "    <tr>\n",
       "      <th>42</th>\n",
       "      <td>1</td>\n",
       "      <td>3</td>\n",
       "      <td>0</td>\n",
       "      <td>0</td>\n",
       "      <td>0</td>\n",
       "      <td>0</td>\n",
       "      <td>1</td>\n",
       "      <td>0</td>\n",
       "      <td>0</td>\n",
       "      <td>0</td>\n",
       "      <td>...</td>\n",
       "      <td>0</td>\n",
       "      <td>1</td>\n",
       "      <td>0</td>\n",
       "      <td>0</td>\n",
       "      <td>0</td>\n",
       "      <td>0</td>\n",
       "      <td>0</td>\n",
       "      <td>0</td>\n",
       "      <td>1</td>\n",
       "      <td>0</td>\n",
       "    </tr>\n",
       "    <tr>\n",
       "      <th>44</th>\n",
       "      <td>0</td>\n",
       "      <td>4</td>\n",
       "      <td>0</td>\n",
       "      <td>0</td>\n",
       "      <td>0</td>\n",
       "      <td>0</td>\n",
       "      <td>1</td>\n",
       "      <td>0</td>\n",
       "      <td>0</td>\n",
       "      <td>0</td>\n",
       "      <td>...</td>\n",
       "      <td>0</td>\n",
       "      <td>1</td>\n",
       "      <td>0</td>\n",
       "      <td>0</td>\n",
       "      <td>0</td>\n",
       "      <td>0</td>\n",
       "      <td>0</td>\n",
       "      <td>0</td>\n",
       "      <td>1</td>\n",
       "      <td>0</td>\n",
       "    </tr>\n",
       "    <tr>\n",
       "      <th>50</th>\n",
       "      <td>1</td>\n",
       "      <td>3</td>\n",
       "      <td>0</td>\n",
       "      <td>0</td>\n",
       "      <td>0</td>\n",
       "      <td>0</td>\n",
       "      <td>0</td>\n",
       "      <td>1</td>\n",
       "      <td>0</td>\n",
       "      <td>0</td>\n",
       "      <td>...</td>\n",
       "      <td>0</td>\n",
       "      <td>0</td>\n",
       "      <td>1</td>\n",
       "      <td>0</td>\n",
       "      <td>0</td>\n",
       "      <td>0</td>\n",
       "      <td>0</td>\n",
       "      <td>0</td>\n",
       "      <td>1</td>\n",
       "      <td>0</td>\n",
       "    </tr>\n",
       "    <tr>\n",
       "      <th>56</th>\n",
       "      <td>1</td>\n",
       "      <td>2</td>\n",
       "      <td>0</td>\n",
       "      <td>0</td>\n",
       "      <td>0</td>\n",
       "      <td>0</td>\n",
       "      <td>0</td>\n",
       "      <td>1</td>\n",
       "      <td>0</td>\n",
       "      <td>0</td>\n",
       "      <td>...</td>\n",
       "      <td>0</td>\n",
       "      <td>0</td>\n",
       "      <td>1</td>\n",
       "      <td>0</td>\n",
       "      <td>0</td>\n",
       "      <td>0</td>\n",
       "      <td>0</td>\n",
       "      <td>0</td>\n",
       "      <td>1</td>\n",
       "      <td>0</td>\n",
       "    </tr>\n",
       "    <tr>\n",
       "      <th>57</th>\n",
       "      <td>0</td>\n",
       "      <td>3</td>\n",
       "      <td>1</td>\n",
       "      <td>0</td>\n",
       "      <td>0</td>\n",
       "      <td>0</td>\n",
       "      <td>0</td>\n",
       "      <td>1</td>\n",
       "      <td>0</td>\n",
       "      <td>0</td>\n",
       "      <td>...</td>\n",
       "      <td>0</td>\n",
       "      <td>0</td>\n",
       "      <td>1</td>\n",
       "      <td>0</td>\n",
       "      <td>0</td>\n",
       "      <td>0</td>\n",
       "      <td>0</td>\n",
       "      <td>0</td>\n",
       "      <td>1</td>\n",
       "      <td>0</td>\n",
       "    </tr>\n",
       "  </tbody>\n",
       "</table>\n",
       "<p>5 rows × 24 columns</p>\n",
       "</div>"
      ],
      "text/plain": [
       "    on_sale  transit_days  returned  backorder  units>6  country_BELGIUM  \\\n",
       "42        1             3         0          0        0                0   \n",
       "44        0             4         0          0        0                0   \n",
       "50        1             3         0          0        0                0   \n",
       "56        1             2         0          0        0                0   \n",
       "57        0             3         1          0        0                0   \n",
       "\n",
       "    country_FRANCE  country_GERMANY  country_NETHERLANDS  country_SWEDEN  \\\n",
       "42               1                0                    0               0   \n",
       "44               1                0                    0               0   \n",
       "50               0                1                    0               0   \n",
       "56               0                1                    0               0   \n",
       "57               0                1                    0               0   \n",
       "\n",
       "            ...            shipping_method_Next Day  facility_ANTWERP  \\\n",
       "42          ...                                   0                 1   \n",
       "44          ...                                   0                 1   \n",
       "50          ...                                   0                 0   \n",
       "56          ...                                   0                 0   \n",
       "57          ...                                   0                 0   \n",
       "\n",
       "    facility_AUGSBURG  facility_EINDHOVEN  facility_HANOVER  \\\n",
       "42                  0                   0                 0   \n",
       "44                  0                   0                 0   \n",
       "50                  1                   0                 0   \n",
       "56                  1                   0                 0   \n",
       "57                  1                   0                 0   \n",
       "\n",
       "    facility_MANCHESTER  facility_OXFORD  product_category_ACCESSORIES  \\\n",
       "42                    0                0                             0   \n",
       "44                    0                0                             0   \n",
       "50                    0                0                             0   \n",
       "56                    0                0                             0   \n",
       "57                    0                0                             0   \n",
       "\n",
       "    product_category_JACKETS & VESTS  product_category_TOPS  \n",
       "42                                 1                      0  \n",
       "44                                 1                      0  \n",
       "50                                 1                      0  \n",
       "56                                 1                      0  \n",
       "57                                 1                      0  \n",
       "\n",
       "[5 rows x 24 columns]"
      ]
     },
     "execution_count": 73,
     "metadata": {},
     "output_type": "execute_result"
    }
   ],
   "source": [
    "df_equal.drop(['Bad_Plan'],axis=1,inplace=True)\n",
    "df_equal.head()"
   ]
  },
  {
   "cell_type": "code",
   "execution_count": 74,
   "metadata": {},
   "outputs": [
    {
     "name": "stdout",
     "output_type": "stream",
     "text": [
      "0.5924727704087135\n"
     ]
    }
   ],
   "source": [
    "from sklearn.model_selection import train_test_split\n",
    "X_train, X_test, y_train, y_test = train_test_split(df_equal, y, test_size = 0.4, random_state=10)\n",
    "\n",
    "dec_clf = DecisionTreeClassifier().fit(X_train, y_train)\n",
    "y_pred = dec_clf.predict(X_test)\n",
    "print(accuracy_score(y_pred,y_test))"
   ]
  },
  {
   "cell_type": "markdown",
   "metadata": {},
   "source": [
    "This model can further be tuned to find optimal hyper parameters."
   ]
  },
  {
   "cell_type": "code",
   "execution_count": 75,
   "metadata": {},
   "outputs": [
    {
     "name": "stderr",
     "output_type": "stream",
     "text": [
      "C:\\Users\\pooji\\Anaconda3_new\\lib\\site-packages\\sklearn\\cross_validation.py:41: DeprecationWarning: This module was deprecated in version 0.18 in favor of the model_selection module into which all the refactored classes and functions are moved. Also note that the interface of the new CV iterators are different from that of this module. This module will be removed in 0.20.\n",
      "  \"This module will be removed in 0.20.\", DeprecationWarning)\n"
     ]
    }
   ],
   "source": [
    "from sklearn.cross_validation import cross_val_score\n",
    "depth = []\n",
    "for i in range(3,20):\n",
    "    clf = DecisionTreeClassifier(max_depth=i)\n",
    "    scores = cross_val_score(estimator=clf, X=X_train, y=y_train, cv=5, n_jobs=4)\n",
    "    depth.append(scores.mean())"
   ]
  },
  {
   "cell_type": "code",
   "execution_count": 81,
   "metadata": {},
   "outputs": [
    {
     "data": {
      "text/plain": [
       "Text(0,0.5,'Accuracy')"
      ]
     },
     "execution_count": 81,
     "metadata": {},
     "output_type": "execute_result"
    },
    {
     "data": {
      "image/png": "[encoded data removed]",
      "text/plain": [
       "<Figure size 432x288 with 1 Axes>"
      ]
     },
     "metadata": {},
     "output_type": "display_data"
    }
   ],
   "source": [
    "plt.plot(range(3,20),depth)\n",
    "plt.xlabel('Depth')\n",
    "plt.ylabel('Accuracy')"
   ]
  },
  {
   "cell_type": "code",
   "execution_count": 77,
   "metadata": {},
   "outputs": [],
   "source": [
    "best_depth = range(3,20)[np.argmax(depth)]"
   ]
  },
  {
   "cell_type": "code",
   "execution_count": 78,
   "metadata": {},
   "outputs": [
    {
     "name": "stdout",
     "output_type": "stream",
     "text": [
      "0.5985118084762213\n"
     ]
    }
   ],
   "source": [
    "dec_clf = DecisionTreeClassifier(max_depth=best_depth).fit(X_train, y_train)\n",
    "y_pred = dec_clf.predict(X_test)\n",
    "print(accuracy_score(y_pred,y_test))"
   ]
  },
  {
   "cell_type": "code",
   "execution_count": 79,
   "metadata": {},
   "outputs": [
    {
     "name": "stdout",
     "output_type": "stream",
     "text": [
      "0.5906394909953628\n"
     ]
    }
   ],
   "source": [
    "from sklearn.ensemble import RandomForestClassifier\n",
    "rf_clf = RandomForestClassifier().fit(X_train, y_train)\n",
    "y_pred = rf_clf.predict(X_test)\n",
    "print(accuracy_score(y_pred,y_test))\n"
   ]
  },
  {
   "cell_type": "code",
   "execution_count": 80,
   "metadata": {},
   "outputs": [],
   "source": [
    "depth_scores = []\n",
    "for i in range(3,20):\n",
    "    rf_clf = RandomForestClassifier(max_depth=i)\n",
    "    scores = cross_val_score(estimator=rf_clf, X=X_train, y=y_train, cv=5, n_jobs=4)\n",
    "    depth_scores.append(scores.mean())\n",
    "    "
   ]
  },
  {
   "cell_type": "code",
   "execution_count": 82,
   "metadata": {},
   "outputs": [
    {
     "data": {
      "text/plain": [
       "Text(0,0.5,'Accuracy')"
      ]
     },
     "execution_count": 82,
     "metadata": {},
     "output_type": "execute_result"
    },
    {
     "data": {
      "image/png": "[encoded data removed]",
      "text/plain": [
       "<Figure size 432x288 with 1 Axes>"
      ]
     },
     "metadata": {},
     "output_type": "display_data"
    }
   ],
   "source": [
    "plt.plot(range(3,20),depth_scores)\n",
    "plt.xlabel('Depth')\n",
    "plt.ylabel('Accuracy')"
   ]
  },
  {
   "cell_type": "code",
   "execution_count": 85,
   "metadata": {},
   "outputs": [
    {
     "data": {
      "text/plain": [
       "0.5907693536152034"
      ]
     },
     "execution_count": 85,
     "metadata": {},
     "output_type": "execute_result"
    }
   ],
   "source": [
    "best_depth_rf = range(3,20)[np.argmax(depth_scores)]\n",
    "depth_scores[best_depth_rf]"
   ]
  },
  {
   "cell_type": "code",
   "execution_count": 84,
   "metadata": {},
   "outputs": [
    {
     "name": "stdout",
     "output_type": "stream",
     "text": [
      "0.5957079693734498\n"
     ]
    }
   ],
   "source": [
    "rf_clf = RandomForestClassifier(max_depth=best_depth_rf).fit(X_train, y_train)\n",
    "y_pred = rf_clf.predict(X_test)\n",
    "print(accuracy_score(y_pred,y_test))"
   ]
  },
  {
   "cell_type": "code",
   "execution_count": 86,
   "metadata": {},
   "outputs": [],
   "source": [
    "from sklearn.linear_model import LogisticRegression\n",
    "m = LogisticRegression().fit(X_train,y_train)\n",
    "y_pred_logit = m.predict(X_test)"
   ]
  },
  {
   "cell_type": "code",
   "execution_count": 87,
   "metadata": {},
   "outputs": [
    {
     "name": "stdout",
     "output_type": "stream",
     "text": [
      "[[-0.0180733   0.2648662  -0.15566493 -0.82698187 -0.16083607 -0.51861489\n",
      "  -0.14349932  0.09598554  0.12441696 -0.27416943  0.27043084 -0.56324596\n",
      "  -0.08609505  0.25574441 -0.05185369 -0.14349932 -0.04510822 -0.32846872\n",
      "  -0.0490524   0.07573064  0.04494774 -0.07819994 -0.19977988 -0.16747046]]\n"
     ]
    }
   ],
   "source": [
    "print(m.coef_)"
   ]
  },
  {
   "cell_type": "code",
   "execution_count": 88,
   "metadata": {},
   "outputs": [
    {
     "name": "stdout",
     "output_type": "stream",
     "text": [
      "0.5907473309608541\n"
     ]
    }
   ],
   "source": [
    "print(accuracy_score(y_pred_logit,y_test))"
   ]
  },
  {
   "cell_type": "code",
   "execution_count": 89,
   "metadata": {},
   "outputs": [],
   "source": [
    "C_vals= [0.001, 0.01, 0.1, 1, 10, 100, 1000] "
   ]
  },
  {
   "cell_type": "code",
   "execution_count": 90,
   "metadata": {},
   "outputs": [],
   "source": [
    "Cs=[]\n",
    "for i in C_vals:\n",
    "    m = LogisticRegression(C=i)\n",
    "    scores = cross_val_score(estimator=m, X=X_train, y=y_train, cv=5, n_jobs=4)\n",
    "    Cs.append(scores.mean())"
   ]
  },
  {
   "cell_type": "code",
   "execution_count": 91,
   "metadata": {},
   "outputs": [
    {
     "data": {
      "text/plain": [
       "100"
      ]
     },
     "execution_count": 91,
     "metadata": {},
     "output_type": "execute_result"
    }
   ],
   "source": [
    "best_C = C_vals[np.argmax(Cs)]\n",
    "best_C"
   ]
  },
  {
   "cell_type": "code",
   "execution_count": 92,
   "metadata": {},
   "outputs": [
    {
     "name": "stdout",
     "output_type": "stream",
     "text": [
      "0.5904238110643805\n"
     ]
    }
   ],
   "source": [
    "m = LogisticRegression(C=best_C).fit(X_train,y_train)\n",
    "y_pred_logit = m.predict(X_test)\n",
    "print(accuracy_score(y_pred_logit,y_test))"
   ]
  },
  {
   "cell_type": "markdown",
   "metadata": {},
   "source": [
    "### Conclusions\n",
    "Clearly, Inspite of using boosted ensemble models also, the model accuracy is not high. This is  because of lack of appropriate data. We would need better data that can include the details about the distance between the source and destination- for each step.\n",
    "\n"
   ]
  },
  {
   "cell_type": "code",
   "execution_count": null,
   "metadata": {},
   "outputs": [],
   "source": []
  }
 ],
 "metadata": {
  "kernelspec": {
   "display_name": "Python 3",
   "language": "python",
   "name": "python3"
  },
  "language_info": {
   "codemirror_mode": {
    "name": "ipython",
    "version": 3
   },
   "file_extension": ".py",
   "mimetype": "text/x-python",
   "name": "python",
   "nbconvert_exporter": "python",
   "pygments_lexer": "ipython3",
   "version": "3.7.3"
  }
 },
 "nbformat": 4,
 "nbformat_minor": 2
}
